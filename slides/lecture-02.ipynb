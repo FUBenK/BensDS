{
 "cells": [
  {
   "cell_type": "code",
   "execution_count": 1,
   "metadata": {
    "collapsed": false
   },
   "outputs": [],
   "source": [
    "import requests\n",
    "from pattern import web\n",
    "from bs4 import BeautifulSoup"
   ]
  },
  {
   "cell_type": "markdown",
   "metadata": {},
   "source": [
    "# Scrapping Demo\n",
    "\n",
    "## Task\n",
    "\n",
    "Find and print the movie title, list of genres, runtime, and score of all movies on [this page](http://www.imdb.com/search/title?at=0&sort=num_votes,desc&start=1&title_type=feature&year=1940,2015)\n",
    "\n",
    "### Base URL and params"
   ]
  },
  {
   "cell_type": "code",
   "execution_count": 2,
   "metadata": {
    "collapsed": false
   },
   "outputs": [
    {
     "name": "stdout",
     "output_type": "stream",
     "text": [
      "http://www.imdb.com/search/title?sort=num_votes%2Cdesc&start=5551&title_type=feature&year=1940%2C2015\n"
     ]
    }
   ],
   "source": [
    "url = 'http://www.imdb.com/search/title'\n",
    "params = dict(sort='num_votes,desc', start=5551, title_type='feature', year='1940,2015')\n",
    "\n",
    "r = requests.get(url, params=params)\n",
    "print r.url  # notice it constructs the full url for you"
   ]
  },
  {
   "cell_type": "markdown",
   "metadata": {},
   "source": [
    "## Using Pattern\n",
    "\n",
    "Selection in pattern follows the rules of CSS:"
   ]
  },
  {
   "cell_type": "code",
   "execution_count": 3,
   "metadata": {
    "collapsed": false,
    "scrolled": true
   },
   "outputs": [
    {
     "name": "stdout",
     "output_type": "stream",
     "text": [
      "tt0893412 From Prada to Nada (2011) [u'Comedy', u'Drama', u'Romance'] 107 mins. 5.5 10,795\n",
      "tt0452643 Love and Other Disasters (2006) [u'Comedy', u'Romance'] 90 mins. 6.3 10,788\n",
      "tt1847731 Tomboy (2011) [u'Drama'] 82 mins. 7.4 10,792\n",
      "tt0102951 Soapdish (1991) [u'Comedy', u'Romance'] 97 mins. 6.5 10,785\n",
      "tt0101787 Dying Young (1991) [u'Drama', u'Romance'] 111 mins. 5.9 10,778\n",
      "tt0496436 White Noise 2: The Light (2007) [u'Drama', u'Horror', u'Thriller'] 99 mins. 5.8 10,776\n",
      "tt1029120 Henry Poole Is Here (2008) [u'Comedy', u'Drama'] 99 mins. 6.5 10,773\n",
      "tt0805526 Facing the Giants (2006) [u'Drama', u'Sport'] 111 mins. 6.6 10,779\n",
      "tt0365847 The Myth (2005) [u'Action', u'Adventure', u'Comedy', u'Drama', u'Fantasy'] 122 mins. 6.1 10,770\n",
      "tt0090583 About Last Night... (1986) [u'Comedy', u'Drama', u'Romance'] 113 mins. 6.1 10,769\n",
      "tt0265808 Stealing Harvard (2002) [u'Comedy', u'Crime'] 85 mins. 5.1 10,763\n",
      "tt0067277 Johnny Got His Gun (1971) [u'Drama', u'War'] 111 mins. 7.9 10,757\n",
      "tt0810823 The Deaths of Ian Stone (2007) [u'Horror', u'Thriller'] 87 mins. 5.6 10,758\n",
      "tt1807950 Love Loves Coincidences (2011) [u'Drama', u'Romance'] 118 mins. 7.4 10,764\n",
      "tt0056264 Mutiny on the Bounty (1962) [u'Adventure', u'Drama', u'History', u'Romance'] 178 mins. 7.2 10,749\n",
      "tt0081318 City of the Living Dead (1980) [u'Horror'] 93 mins. 6.3 10,745\n",
      "tt0079240 The Great Train Robbery (1978) [u'Adventure', u'Crime', u'Drama', u'Thriller'] 110 mins. 7.0 10,744\n",
      "tt0489327 Venus (2006) [u'Comedy', u'Drama', u'Romance'] 95 mins. 7.1 10,733\n",
      "tt0039420 The Ghost and Mrs. Muir (1947) [u'Drama', u'Fantasy', u'Mystery', u'Romance', u'Thriller'] 104 mins. 7.9 10,731\n",
      "tt0110687 North (1994) [u'Adventure', u'Comedy', u'Drama', u'Family', u'Fantasy'] 87 mins. 4.4 10,732\n",
      "tt1698648 Girl Most Likely (2012) [u'Comedy'] 103 mins. 5.7 10,739\n",
      "tt0974014 Creation (2009) [u'Biography', u'Drama'] 108 mins. 6.8 10,729\n",
      "tt0488478 12 (2007) [u'Crime', u'Drama', u'Thriller', u'War'] 159 mins. 7.8 10,713\n",
      "tt0110081 To Live (1994) [u'Drama', u'War'] 125 mins. 8.3 10,698\n",
      "tt0070040 The Spirit of the Beehive (1973) [u'Drama', u'Fantasy'] 97 mins. 8.0 10,692\n",
      "tt0089543 The Man with One Red Shoe (1985) [u'Comedy', u'Thriller'] 92 mins. 5.6 10,685\n",
      "tt0923811 Evangelion: 1.0: You Are (Not) Alone (2007) [u'Animation', u'Action', u'Drama', u'Sci-Fi'] 98 mins. 7.8 10,683\n",
      "tt0134154 Ride with the Devil (1999) [u'Drama', u'Romance', u'War', u'Western'] 138 mins. 6.8 10,674\n",
      "tt1911662 Vehicle 19 (2013) [u'Action', u'Thriller'] 82 mins. 4.9 10,675\n",
      "tt0499375 Guru (2007) [u'Biography', u'Drama', u'Musical', u'Romance'] 166 mins. 7.8 10,675\n",
      "tt0062824 Coogan's Bluff (1968) [u'Action', u'Thriller'] 93 mins. 6.5 10,665\n",
      "tt0412798 Half Light (2006) [u'Drama', u'Horror', u'Mystery', u'Thriller'] 110 mins. 6.0 10,657\n",
      "tt0102316 Little Man Tate (1991) [u'Drama'] 99 mins. 6.6 10,663\n",
      "tt0132512 At First Sight (1999) [u'Drama', u'Romance'] 128 mins. 5.9 10,653\n",
      "tt0804463 Devil's Knot (2013) [u'Biography', u'Crime', u'Drama', u'Thriller'] 114 mins. 6.0 10,659\n",
      "tt1274295 Kaminey: The Scoundrels (2009) [u'Action', u'Comedy', u'Crime', u'Drama', u'Thriller'] 130 mins. 7.5 10,644\n",
      "tt0082933 Possession (1981) [u'Drama', u'Horror'] 124 mins. 7.3 10,642\n",
      "tt0101258 Days of Being Wild (1990) [u'Crime', u'Drama', u'Romance'] 94 mins. 7.6 10,633\n",
      "tt1712159 11-11-11 (2011) [u'Horror', u'Mystery', u'Thriller'] 90 mins. 4.0 10,631\n",
      "tt0258038 Pootie Tang (2001) [u'Comedy', u'Musical', u'Adventure', u'Action'] 81 mins. 5.1 10,628\n",
      "tt0157472 Clockstoppers (2002) [u'Adventure', u'Sci-Fi', u'Thriller'] 94 mins. 5.2 10,628\n",
      "tt0106453 Body of Evidence (1993) [u'Drama', u'Romance', u'Thriller'] 99 mins. 4.3 10,629\n",
      "tt0145503 Sunshine (1999) [u'Drama', u'History', u'Romance', u'War'] 181 mins. 7.5 10,627\n",
      "tt0059037 The Cincinnati Kid (1965) [u'Drama'] 102 mins. 7.3 10,639\n",
      "tt0951335 The New Daughter (2009) [u'Horror', u'Thriller'] 108 mins. 5.3 10,621\n",
      "tt0120710 In Dreams (1999) [u'Drama', u'Fantasy', u'Thriller'] 100 mins. 5.4 10,620\n",
      "tt0105585 Thunderheart (1992) [u'Crime', u'Mystery', u'Thriller'] 119 mins. 6.8 10,621\n",
      "tt0397619 Samaritan Girl (2004) [u'Drama'] 95 mins. 7.2 10,618\n",
      "tt0211934 Baadshah (1999) [u'Action', u'Comedy', u'Musical', u'Thriller'] 175 mins. 6.9 10,619\n",
      "tt0080474 Brubaker (1980) [u'Crime', u'Drama'] 132 mins. 7.1 10,613\n"
     ]
    }
   ],
   "source": [
    "dom = web.Element(r.text)\n",
    "\n",
    "for movie in dom.by_tag('tr.detailed'):\n",
    "    title = movie.by_tag('td.title')[0]\n",
    "    imdbID = title.by_tag('a')[0].href.replace('/title/', '').strip('/')\n",
    "    name = web.plaintext(title.by_tag('a')[0].content)\n",
    "    year = title.by_tag('span.year_type')[0].content\n",
    "    genres = title.by_tag('span.genre')[0].by_tag('a')\n",
    "    genres = [g.content for g in genres]\n",
    "    try:\n",
    "        runtime = title.by_tag('span.runtime')[0].content\n",
    "    except IndexError:\n",
    "        runtime = \"NA\"\n",
    "    rating = title.by_tag('span.value')[0].content\n",
    "    votes = movie.by_tag('td.sort_col')[0].content\n",
    "    print imdbID, name, year, genres, runtime, rating, votes"
   ]
  },
  {
   "cell_type": "markdown",
   "metadata": {},
   "source": [
    "### Scrape to a file\n",
    "\n",
    "Let us now scrape the first 10,000 results into a tab delimited file:"
   ]
  },
  {
   "cell_type": "code",
   "execution_count": 4,
   "metadata": {
    "collapsed": false
   },
   "outputs": [],
   "source": [
    "with open ('../data/imdb.txt','a') as file:\n",
    "    for start in range(1,10000,50):\n",
    "        params = dict(sort='num_votes,desc', start=start, title_type='feature', year='1940,2015')\n",
    "        r = requests.get(url, params=params)\n",
    "        dom = web.Element(r.text)\n",
    "        for movie in dom.by_tag('tr.detailed'):\n",
    "            title = movie.by_tag('td.title')[0]\n",
    "            imdbID = title.by_tag('a')[0].href.replace('/title/', '').strip('/')\n",
    "            name = web.plaintext(title.by_tag('a')[0].content).encode('utf8')\n",
    "            year = title.by_tag('span.year_type')[0].content\n",
    "            genres = title.by_tag('span.genre')[0].by_tag('a')\n",
    "            genres =  \"|\".join([g.content for g in genres])\n",
    "            try:\n",
    "                runtime = title.by_tag('span.runtime')[0].content\n",
    "            except IndexError:\n",
    "                runtime = \"NA\"\n",
    "            rating = title.by_tag('span.value')[0].content\n",
    "            votes = movie.by_tag('td.sort_col')[0].content\n",
    "            file.write(\"{}\\t{} {}\\t{}\\t{}\\t{}\\t{}\\t{}\\n\".format(imdbID, name, year, year, rating, runtime, genres, votes))"
   ]
  },
  {
   "cell_type": "markdown",
   "metadata": {},
   "source": [
    "## Using BeautifulSoup\n",
    "\n",
    "Using `find` and `findAll`:"
   ]
  },
  {
   "cell_type": "code",
   "execution_count": 5,
   "metadata": {
    "collapsed": false
   },
   "outputs": [
    {
     "name": "stdout",
     "output_type": "stream",
     "text": [
      "The Devil's Brigade [u'War'] 130 mins. 6.8\n",
      "Lassie Come Home [u'Adventure', u'Family'] 89 mins. 7.2\n",
      "Snowroller - Sällskapsresan II [u'Comedy'] 91 mins. 6.5\n",
      "Closing the Ring [u'Drama', u'Romance'] 118 mins. 6.6\n",
      "Enemies Closer [u'Action', u'Thriller'] 85 mins. 5.1\n",
      "Q & A [u'Crime', u'Drama'] 132 mins. 6.5\n",
      "Cyclo [u'Crime', u'Drama'] 123 mins. 7.4\n",
      "Don't Bother to Knock [u'Drama', u'Film-Noir', u'Thriller'] 76 mins. 6.9\n",
      "The Hitch-Hiker [u'Crime', u'Film-Noir', u'Thriller'] 71 mins. 7.0\n",
      "Sky Fighters [u'Adventure', u'Action'] 102 mins. 5.7\n",
      "High Road to China [u'Adventure', u'Drama', u'Romance', u'War'] 105 mins. 5.9\n",
      "Scandal [u'Drama', u'History'] 115 mins. 6.4\n",
      "Squirm [u'Horror'] 92 mins. 4.4\n",
      "Little Nikita [u'Drama', u'Thriller'] 98 mins. 6.0\n",
      "Sunday Bloody Sunday [u'Drama'] 110 mins. 7.3\n",
      "Dying Breed [u'Horror', u'Thriller'] 92 mins. 5.4\n",
      "I Dreamed of Africa [u'Adventure', u'Drama', u'Romance'] 114 mins. 5.5\n",
      "Black or White [u'Drama'] 121 mins. 6.5\n",
      "The Haunted Palace [u'Horror'] 87 mins. 6.8\n",
      "The Traveler [u'Horror', u'Thriller'] 96 mins. 4.0\n",
      "Son of the Pink Panther [u'Comedy'] 93 mins. 3.7\n",
      "The Cry of the Owl [u'Drama', u'Thriller'] 100 mins. 6.0\n",
      "The Fugitive Kind [u'Drama', u'Romance'] 119 mins. 7.2\n",
      "Big Bully [u'Comedy', u'Drama', u'Thriller'] 90 mins. 4.5\n",
      "Bad Boys [u'Action', u'Biography', u'Crime', u'Drama'] 126 mins. 6.2\n",
      "Lila Says [u'Crime', u'Drama', u'Romance'] 89 mins. 7.1\n",
      "Albatross [u'Drama'] 90 mins. 6.4\n",
      "Mrs. Brown's Boys D'Movie [u'Comedy'] 94 mins. 4.1\n",
      "Epidemic [u'Drama', u'Horror'] 106 mins. 6.2\n",
      "Men with Brooms [u'Comedy', u'Drama', u'Romance', u'Sport'] 102 mins. 5.9\n",
      "I'll Follow You Down [u'Drama', u'Mystery', u'Sci-Fi'] 93 mins. 6.0\n",
      "Ten Canoes [u'Adventure', u'Comedy', u'Drama'] 90 mins. 7.0\n",
      "The Big Store [u'Comedy', u'Musical'] 83 mins. 6.6\n",
      "The Caiman [u'Comedy', u'Drama', u'Romance'] 112 mins. 6.7\n",
      "Rapa Nui [u'Action', u'Adventure', u'Drama', u'History', u'Romance'] 107 mins. 6.4\n",
      "The Hot Rock [u'Action', u'Comedy', u'Crime'] 101 mins. 6.8\n",
      "The Woman in Green [u'Mystery'] 68 mins. 6.9\n",
      "Continental Divide [u'Comedy', u'Romance'] 103 mins. 6.1\n",
      "Terror by Night [u'Mystery'] 60 mins. 7.0\n",
      "Salvation Boulevard [u'Action', u'Comedy', u'Drama', u'Thriller'] 96 mins. 5.3\n",
      "House of Voices [u'Drama', u'Fantasy', u'Horror', u'Mystery'] 98 mins. 4.9\n",
      "Cheeni Kum [u'Comedy', u'Romance'] 140 mins. 6.8\n",
      "Police, Adjective [u'Comedy', u'Crime', u'Drama'] 115 mins. 7.1\n",
      "Zombie Holocaust [u'Horror'] 84 mins. 5.2\n",
      "The Thief [u'Drama'] 96 mins. 7.7\n",
      "Dark Country [u'Crime', u'Mystery', u'Thriller'] 88 mins. 5.3\n",
      "Night and the City [u'Comedy', u'Crime', u'Drama'] 105 mins. 5.8\n",
      "Moulin Rouge [u'Biography', u'Drama', u'Music', u'Romance'] 119 mins. 7.2\n",
      "Little Birds [u'Drama'] 94 mins. 6.2\n",
      "Mischief [u'Comedy', u'Romance'] 93 mins. 6.5\n"
     ]
    }
   ],
   "source": [
    "bs = BeautifulSoup(r.text)\n",
    "\n",
    "for movie in bs.findAll('td', 'title'):\n",
    "    title = movie.find('a').contents[0]\n",
    "    genres = movie.find('span', 'genre').findAll('a') \n",
    "    genres = [g.contents[0] for g in genres]\n",
    "    runtime = movie.find('span', 'runtime').contents[0]\n",
    "    rating = movie.find('span', 'value').contents[0]\n",
    "    print title, genres, runtime, rating"
   ]
  },
  {
   "cell_type": "markdown",
   "metadata": {},
   "source": [
    "All scrapping follows the same pattern. Finding out which DOM tag we need and then looping over and stripping out everything else.\n",
    "\n",
    "At the end this is how you should feel:\n",
    "![Success Kid](http://i1.kym-cdn.com/photos/images/original/000/185/885/SANDCASTLES.png)\n",
    "\n",
    "# Wrangling Demo\n",
    "\n",
    "To get started let's import the libraries we will need and minimize matplotlib's chart junk:"
   ]
  },
  {
   "cell_type": "code",
   "execution_count": 6,
   "metadata": {
    "collapsed": false
   },
   "outputs": [],
   "source": [
    "%matplotlib inline\n",
    "\n",
    "import matplotlib.pyplot as plt\n",
    "import pandas as pd\n",
    "import numpy as np\n",
    "\n",
    "#tell pandas to display wide tables as pretty HTML tables\n",
    "pd.set_option('display.width', 500)\n",
    "pd.set_option('display.max_columns', 100)\n",
    "\n",
    "def remove_border(axes=None, top=False, right=False, left=True, bottom=True):\n",
    "    \"\"\"\n",
    "    Minimize chartjunk by stripping out unnecesasry plot borders and axis ticks\n",
    "    \n",
    "    The top/right/left/bottom keywords toggle whether the corresponding plot border is drawn\n",
    "    \"\"\"\n",
    "    ax = axes or plt.gca()\n",
    "    ax.spines['top'].set_visible(top)\n",
    "    ax.spines['right'].set_visible(right)\n",
    "    ax.spines['left'].set_visible(left)\n",
    "    ax.spines['bottom'].set_visible(bottom)\n",
    "    \n",
    "    #turn off all ticks\n",
    "    ax.yaxis.set_ticks_position('none')\n",
    "    ax.xaxis.set_ticks_position('none')\n",
    "    \n",
    "    #now re-enable visibles\n",
    "    if top:\n",
    "        ax.xaxis.tick_top()\n",
    "    if bottom:\n",
    "        ax.xaxis.tick_bottom()\n",
    "    if left:\n",
    "        ax.yaxis.tick_left()\n",
    "    if right:\n",
    "        ax.yaxis.tick_right()"
   ]
  },
  {
   "cell_type": "markdown",
   "metadata": {},
   "source": [
    "The basic workflow pattern is as follows:\n",
    "\n",
    "1. **Build** a DataFrame from the data (ideally, put *all* data in this object)\n",
    "2. **Clean** the DataFrame. It should have the following properties:\n",
    "   * Each row describes a single object\n",
    "   * Each column describes a property of that object\n",
    "   * Columns are numeric whenever appropriate\n",
    "   * Columns contain atomic properties that cannot be further decomposed\n",
    "3. Explore **global properties**. Use histograms, scatter plots, and aggregation functions to summarize the data.\n",
    "4. Explore **group properties**. Use `groupby` and small multiples to compare subsets of the data.\n",
    "\n",
    "This process transforms your data into a format which is easier to work with, gives you a basic overview of  the data's properties, and likely generates several questions for you to followup in subsequent analysis.\n",
    "\n",
    "Here's a preview of the raw data we'll use -- it's a list of the 10,000 movies made since 1940 with the most IMDB user ratings."
   ]
  },
  {
   "cell_type": "code",
   "execution_count": 7,
   "metadata": {
    "collapsed": false
   },
   "outputs": [
    {
     "name": "stdout",
     "output_type": "stream",
     "text": [
      "tt0111161\tThe Shawshank Redemption (1994)\t(1994)\t9.3\t142 mins.\tCrime|Drama\t1,434,256\r\n",
      "tt0468569\tThe Dark Knight (2008)\t(2008)\t9.0\t152 mins.\tAction|Crime|Drama\t1,404,761\r\n",
      "tt1375666\tInception (2010)\t(2010)\t8.8\t148 mins.\tAction|Mystery|Sci-Fi|Thriller\t1,203,863\r\n",
      "tt0137523\tFight Club (1999)\t(1999)\t8.9\t139 mins.\tDrama\t1,118,852\r\n",
      "tt0110912\tPulp Fiction (1994)\t(1994)\t8.9\t154 mins.\tCrime|Drama\t1,113,162\r\n",
      "tt0120737\tThe Lord of the Rings: The Fellowship of the Ring (2001)\t(2001)\t8.8\t178 mins.\tAdventure|Fantasy\t1,052,988\r\n",
      "tt0167260\tThe Lord of the Rings: The Return of the King (2003)\t(2003)\t8.9\t201 mins.\tAdventure|Fantasy\t1,026,828\r\n",
      "tt0133093\tThe Matrix (1999)\t(1999)\t8.7\t136 mins.\tAction|Sci-Fi\t1,023,145\r\n",
      "tt0109830\tForrest Gump (1994)\t(1994)\t8.8\t142 mins.\tDrama|Romance\t1,018,579\r\n",
      "tt0068646\tThe Godfather (1972)\t(1972)\t9.2\t175 mins.\tCrime|Drama\t985,270\r\n"
     ]
    }
   ],
   "source": [
    "!head ../data/imdb_top_10000.txt"
   ]
  },
  {
   "cell_type": "markdown",
   "metadata": {},
   "source": [
    "Notice the runtime is currently a string rather than an integer number. The genres column is not atomic. Finally the movie year is repeated in the year and title column and the votes are represented as formated integers."
   ]
  },
  {
   "cell_type": "markdown",
   "metadata": {},
   "source": [
    "## 1. Build a DataFrame\n",
    "\n",
    "The textfile is tab-separated, and doesn't have any column headers. We set the appropriate keywords in `pd.read_csv` to handle this:"
   ]
  },
  {
   "cell_type": "code",
   "execution_count": 8,
   "metadata": {
    "collapsed": false
   },
   "outputs": [
    {
     "name": "stdout",
     "output_type": "stream",
     "text": [
      "Number of rows: 10000\n"
     ]
    },
    {
     "data": {
      "text/html": [
       "<div>\n",
       "<table border=\"1\" class=\"dataframe\">\n",
       "  <thead>\n",
       "    <tr style=\"text-align: right;\">\n",
       "      <th></th>\n",
       "      <th>title</th>\n",
       "      <th>year</th>\n",
       "      <th>score</th>\n",
       "      <th>runtime</th>\n",
       "      <th>genres</th>\n",
       "      <th>votes</th>\n",
       "    </tr>\n",
       "    <tr>\n",
       "      <th>imdbID</th>\n",
       "      <th></th>\n",
       "      <th></th>\n",
       "      <th></th>\n",
       "      <th></th>\n",
       "      <th></th>\n",
       "      <th></th>\n",
       "    </tr>\n",
       "  </thead>\n",
       "  <tbody>\n",
       "    <tr>\n",
       "      <th>tt0111161</th>\n",
       "      <td>The Shawshank Redemption (1994)</td>\n",
       "      <td>(1994)</td>\n",
       "      <td>9.3</td>\n",
       "      <td>142 mins.</td>\n",
       "      <td>Crime|Drama</td>\n",
       "      <td>1,434,256</td>\n",
       "    </tr>\n",
       "    <tr>\n",
       "      <th>tt0468569</th>\n",
       "      <td>The Dark Knight (2008)</td>\n",
       "      <td>(2008)</td>\n",
       "      <td>9.0</td>\n",
       "      <td>152 mins.</td>\n",
       "      <td>Action|Crime|Drama</td>\n",
       "      <td>1,404,761</td>\n",
       "    </tr>\n",
       "    <tr>\n",
       "      <th>tt1375666</th>\n",
       "      <td>Inception (2010)</td>\n",
       "      <td>(2010)</td>\n",
       "      <td>8.8</td>\n",
       "      <td>148 mins.</td>\n",
       "      <td>Action|Mystery|Sci-Fi|Thriller</td>\n",
       "      <td>1,203,863</td>\n",
       "    </tr>\n",
       "    <tr>\n",
       "      <th>tt0137523</th>\n",
       "      <td>Fight Club (1999)</td>\n",
       "      <td>(1999)</td>\n",
       "      <td>8.9</td>\n",
       "      <td>139 mins.</td>\n",
       "      <td>Drama</td>\n",
       "      <td>1,118,852</td>\n",
       "    </tr>\n",
       "    <tr>\n",
       "      <th>tt0110912</th>\n",
       "      <td>Pulp Fiction (1994)</td>\n",
       "      <td>(1994)</td>\n",
       "      <td>8.9</td>\n",
       "      <td>154 mins.</td>\n",
       "      <td>Crime|Drama</td>\n",
       "      <td>1,113,162</td>\n",
       "    </tr>\n",
       "  </tbody>\n",
       "</table>\n",
       "</div>"
      ],
      "text/plain": [
       "                                     title    year  score    runtime                          genres      votes\n",
       "imdbID                                                                                                         \n",
       "tt0111161  The Shawshank Redemption (1994)  (1994)    9.3  142 mins.                     Crime|Drama  1,434,256\n",
       "tt0468569           The Dark Knight (2008)  (2008)    9.0  152 mins.              Action|Crime|Drama  1,404,761\n",
       "tt1375666                 Inception (2010)  (2010)    8.8  148 mins.  Action|Mystery|Sci-Fi|Thriller  1,203,863\n",
       "tt0137523                Fight Club (1999)  (1999)    8.9  139 mins.                           Drama  1,118,852\n",
       "tt0110912              Pulp Fiction (1994)  (1994)    8.9  154 mins.                     Crime|Drama  1,113,162"
      ]
     },
     "execution_count": 8,
     "metadata": {},
     "output_type": "execute_result"
    }
   ],
   "source": [
    "col_names = ['imdbID', 'title', 'year', 'score','runtime','genres','votes']\n",
    "data = pd.read_csv('../data/imdb_top_10000.txt', delimiter='\\t', names=col_names, index_col='imdbID',na_values=['NA'])\n",
    "print \"Number of rows: %i\" % data.shape[0]\n",
    "data.head()"
   ]
  },
  {
   "cell_type": "markdown",
   "metadata": {},
   "source": [
    "## 2. Clean the DataFrame\n",
    "\n",
    "There are several problems with the DataFrame at this point:\n",
    "\n",
    "1. The runtime column describes a number, but is stored as a string\n",
    "2. The genres column is not atomic -- it aggregates several genres together. This makes it hard, for example, to extract which movies are Comedies.\n",
    "3. The movie year is repeated in the title and year column\n",
    "\n",
    "### Fixing the runtime column\n",
    "\n",
    "The following snipptet converts a string like '142 mins.' to the number 142:"
   ]
  },
  {
   "cell_type": "code",
   "execution_count": 9,
   "metadata": {
    "collapsed": false
   },
   "outputs": [
    {
     "name": "stdout",
     "output_type": "stream",
     "text": [
      "142\n"
     ]
    }
   ],
   "source": [
    "runtime = '142 mins.'\n",
    "number, unit = runtime.split(' ')\n",
    "print int(number)"
   ]
  },
  {
   "cell_type": "markdown",
   "metadata": {},
   "source": [
    "We can package this up into a list comprehension:"
   ]
  },
  {
   "cell_type": "code",
   "execution_count": 10,
   "metadata": {
    "collapsed": false
   },
   "outputs": [
    {
     "name": "stdout",
     "output_type": "stream",
     "text": [
      "Number of rows: 10000\n"
     ]
    },
    {
     "data": {
      "text/html": [
       "<div>\n",
       "<table border=\"1\" class=\"dataframe\">\n",
       "  <thead>\n",
       "    <tr style=\"text-align: right;\">\n",
       "      <th></th>\n",
       "      <th>title</th>\n",
       "      <th>year</th>\n",
       "      <th>score</th>\n",
       "      <th>runtime</th>\n",
       "      <th>genres</th>\n",
       "      <th>votes</th>\n",
       "    </tr>\n",
       "    <tr>\n",
       "      <th>imdbID</th>\n",
       "      <th></th>\n",
       "      <th></th>\n",
       "      <th></th>\n",
       "      <th></th>\n",
       "      <th></th>\n",
       "      <th></th>\n",
       "    </tr>\n",
       "  </thead>\n",
       "  <tbody>\n",
       "    <tr>\n",
       "      <th>tt0111161</th>\n",
       "      <td>The Shawshank Redemption (1994)</td>\n",
       "      <td>(1994)</td>\n",
       "      <td>9.3</td>\n",
       "      <td>142</td>\n",
       "      <td>Crime|Drama</td>\n",
       "      <td>1,434,256</td>\n",
       "    </tr>\n",
       "    <tr>\n",
       "      <th>tt0468569</th>\n",
       "      <td>The Dark Knight (2008)</td>\n",
       "      <td>(2008)</td>\n",
       "      <td>9.0</td>\n",
       "      <td>152</td>\n",
       "      <td>Action|Crime|Drama</td>\n",
       "      <td>1,404,761</td>\n",
       "    </tr>\n",
       "    <tr>\n",
       "      <th>tt1375666</th>\n",
       "      <td>Inception (2010)</td>\n",
       "      <td>(2010)</td>\n",
       "      <td>8.8</td>\n",
       "      <td>148</td>\n",
       "      <td>Action|Mystery|Sci-Fi|Thriller</td>\n",
       "      <td>1,203,863</td>\n",
       "    </tr>\n",
       "    <tr>\n",
       "      <th>tt0137523</th>\n",
       "      <td>Fight Club (1999)</td>\n",
       "      <td>(1999)</td>\n",
       "      <td>8.9</td>\n",
       "      <td>139</td>\n",
       "      <td>Drama</td>\n",
       "      <td>1,118,852</td>\n",
       "    </tr>\n",
       "    <tr>\n",
       "      <th>tt0110912</th>\n",
       "      <td>Pulp Fiction (1994)</td>\n",
       "      <td>(1994)</td>\n",
       "      <td>8.9</td>\n",
       "      <td>154</td>\n",
       "      <td>Crime|Drama</td>\n",
       "      <td>1,113,162</td>\n",
       "    </tr>\n",
       "  </tbody>\n",
       "</table>\n",
       "</div>"
      ],
      "text/plain": [
       "                                     title    year  score  runtime                          genres      votes\n",
       "imdbID                                                                                                       \n",
       "tt0111161  The Shawshank Redemption (1994)  (1994)    9.3      142                     Crime|Drama  1,434,256\n",
       "tt0468569           The Dark Knight (2008)  (2008)    9.0      152              Action|Crime|Drama  1,404,761\n",
       "tt1375666                 Inception (2010)  (2010)    8.8      148  Action|Mystery|Sci-Fi|Thriller  1,203,863\n",
       "tt0137523                Fight Club (1999)  (1999)    8.9      139                           Drama  1,118,852\n",
       "tt0110912              Pulp Fiction (1994)  (1994)    8.9      154                     Crime|Drama  1,113,162"
      ]
     },
     "execution_count": 10,
     "metadata": {},
     "output_type": "execute_result"
    }
   ],
   "source": [
    "data['runtime'] = data['runtime'].dropna().map(lambda x: int(x.split(' ')[0]))\n",
    "print \"Number of rows: %i\" % data.shape[0]\n",
    "data.head()                                              "
   ]
  },
  {
   "cell_type": "markdown",
   "metadata": {},
   "source": [
    "### Splitting up the genres\n",
    "We can use the concept of *indicator variables* to split the genres column into many columns. Each new column will correspond to a single genre, and each cell will be True or False."
   ]
  },
  {
   "cell_type": "code",
   "execution_count": 11,
   "metadata": {
    "collapsed": false
   },
   "outputs": [
    {
     "data": {
      "text/html": [
       "<div>\n",
       "<table border=\"1\" class=\"dataframe\">\n",
       "  <thead>\n",
       "    <tr style=\"text-align: right;\">\n",
       "      <th></th>\n",
       "      <th>title</th>\n",
       "      <th>year</th>\n",
       "      <th>score</th>\n",
       "      <th>runtime</th>\n",
       "      <th>genres</th>\n",
       "      <th>votes</th>\n",
       "      <th>Action</th>\n",
       "      <th>Adult</th>\n",
       "      <th>Adventure</th>\n",
       "      <th>Animation</th>\n",
       "      <th>Biography</th>\n",
       "      <th>Comedy</th>\n",
       "      <th>Crime</th>\n",
       "      <th>Drama</th>\n",
       "      <th>Family</th>\n",
       "      <th>Fantasy</th>\n",
       "      <th>Film-Noir</th>\n",
       "      <th>History</th>\n",
       "      <th>Horror</th>\n",
       "      <th>Music</th>\n",
       "      <th>Musical</th>\n",
       "      <th>Mystery</th>\n",
       "      <th>Romance</th>\n",
       "      <th>Sci-Fi</th>\n",
       "      <th>Sport</th>\n",
       "      <th>Thriller</th>\n",
       "      <th>War</th>\n",
       "      <th>Western</th>\n",
       "    </tr>\n",
       "    <tr>\n",
       "      <th>imdbID</th>\n",
       "      <th></th>\n",
       "      <th></th>\n",
       "      <th></th>\n",
       "      <th></th>\n",
       "      <th></th>\n",
       "      <th></th>\n",
       "      <th></th>\n",
       "      <th></th>\n",
       "      <th></th>\n",
       "      <th></th>\n",
       "      <th></th>\n",
       "      <th></th>\n",
       "      <th></th>\n",
       "      <th></th>\n",
       "      <th></th>\n",
       "      <th></th>\n",
       "      <th></th>\n",
       "      <th></th>\n",
       "      <th></th>\n",
       "      <th></th>\n",
       "      <th></th>\n",
       "      <th></th>\n",
       "      <th></th>\n",
       "      <th></th>\n",
       "      <th></th>\n",
       "      <th></th>\n",
       "      <th></th>\n",
       "      <th></th>\n",
       "    </tr>\n",
       "  </thead>\n",
       "  <tbody>\n",
       "    <tr>\n",
       "      <th>tt0111161</th>\n",
       "      <td>The Shawshank Redemption (1994)</td>\n",
       "      <td>(1994)</td>\n",
       "      <td>9.3</td>\n",
       "      <td>142</td>\n",
       "      <td>Crime|Drama</td>\n",
       "      <td>1,434,256</td>\n",
       "      <td>False</td>\n",
       "      <td>False</td>\n",
       "      <td>False</td>\n",
       "      <td>False</td>\n",
       "      <td>False</td>\n",
       "      <td>False</td>\n",
       "      <td>True</td>\n",
       "      <td>True</td>\n",
       "      <td>False</td>\n",
       "      <td>False</td>\n",
       "      <td>False</td>\n",
       "      <td>False</td>\n",
       "      <td>False</td>\n",
       "      <td>False</td>\n",
       "      <td>False</td>\n",
       "      <td>False</td>\n",
       "      <td>False</td>\n",
       "      <td>False</td>\n",
       "      <td>False</td>\n",
       "      <td>False</td>\n",
       "      <td>False</td>\n",
       "      <td>False</td>\n",
       "    </tr>\n",
       "    <tr>\n",
       "      <th>tt0468569</th>\n",
       "      <td>The Dark Knight (2008)</td>\n",
       "      <td>(2008)</td>\n",
       "      <td>9.0</td>\n",
       "      <td>152</td>\n",
       "      <td>Action|Crime|Drama</td>\n",
       "      <td>1,404,761</td>\n",
       "      <td>True</td>\n",
       "      <td>False</td>\n",
       "      <td>False</td>\n",
       "      <td>False</td>\n",
       "      <td>False</td>\n",
       "      <td>False</td>\n",
       "      <td>True</td>\n",
       "      <td>True</td>\n",
       "      <td>False</td>\n",
       "      <td>False</td>\n",
       "      <td>False</td>\n",
       "      <td>False</td>\n",
       "      <td>False</td>\n",
       "      <td>False</td>\n",
       "      <td>False</td>\n",
       "      <td>False</td>\n",
       "      <td>False</td>\n",
       "      <td>False</td>\n",
       "      <td>False</td>\n",
       "      <td>False</td>\n",
       "      <td>False</td>\n",
       "      <td>False</td>\n",
       "    </tr>\n",
       "    <tr>\n",
       "      <th>tt1375666</th>\n",
       "      <td>Inception (2010)</td>\n",
       "      <td>(2010)</td>\n",
       "      <td>8.8</td>\n",
       "      <td>148</td>\n",
       "      <td>Action|Mystery|Sci-Fi|Thriller</td>\n",
       "      <td>1,203,863</td>\n",
       "      <td>True</td>\n",
       "      <td>False</td>\n",
       "      <td>False</td>\n",
       "      <td>False</td>\n",
       "      <td>False</td>\n",
       "      <td>False</td>\n",
       "      <td>False</td>\n",
       "      <td>False</td>\n",
       "      <td>False</td>\n",
       "      <td>False</td>\n",
       "      <td>False</td>\n",
       "      <td>False</td>\n",
       "      <td>False</td>\n",
       "      <td>False</td>\n",
       "      <td>False</td>\n",
       "      <td>True</td>\n",
       "      <td>False</td>\n",
       "      <td>True</td>\n",
       "      <td>False</td>\n",
       "      <td>True</td>\n",
       "      <td>False</td>\n",
       "      <td>False</td>\n",
       "    </tr>\n",
       "    <tr>\n",
       "      <th>tt0137523</th>\n",
       "      <td>Fight Club (1999)</td>\n",
       "      <td>(1999)</td>\n",
       "      <td>8.9</td>\n",
       "      <td>139</td>\n",
       "      <td>Drama</td>\n",
       "      <td>1,118,852</td>\n",
       "      <td>False</td>\n",
       "      <td>False</td>\n",
       "      <td>False</td>\n",
       "      <td>False</td>\n",
       "      <td>False</td>\n",
       "      <td>False</td>\n",
       "      <td>False</td>\n",
       "      <td>True</td>\n",
       "      <td>False</td>\n",
       "      <td>False</td>\n",
       "      <td>False</td>\n",
       "      <td>False</td>\n",
       "      <td>False</td>\n",
       "      <td>False</td>\n",
       "      <td>False</td>\n",
       "      <td>False</td>\n",
       "      <td>False</td>\n",
       "      <td>False</td>\n",
       "      <td>False</td>\n",
       "      <td>False</td>\n",
       "      <td>False</td>\n",
       "      <td>False</td>\n",
       "    </tr>\n",
       "    <tr>\n",
       "      <th>tt0110912</th>\n",
       "      <td>Pulp Fiction (1994)</td>\n",
       "      <td>(1994)</td>\n",
       "      <td>8.9</td>\n",
       "      <td>154</td>\n",
       "      <td>Crime|Drama</td>\n",
       "      <td>1,113,162</td>\n",
       "      <td>False</td>\n",
       "      <td>False</td>\n",
       "      <td>False</td>\n",
       "      <td>False</td>\n",
       "      <td>False</td>\n",
       "      <td>False</td>\n",
       "      <td>True</td>\n",
       "      <td>True</td>\n",
       "      <td>False</td>\n",
       "      <td>False</td>\n",
       "      <td>False</td>\n",
       "      <td>False</td>\n",
       "      <td>False</td>\n",
       "      <td>False</td>\n",
       "      <td>False</td>\n",
       "      <td>False</td>\n",
       "      <td>False</td>\n",
       "      <td>False</td>\n",
       "      <td>False</td>\n",
       "      <td>False</td>\n",
       "      <td>False</td>\n",
       "      <td>False</td>\n",
       "    </tr>\n",
       "  </tbody>\n",
       "</table>\n",
       "</div>"
      ],
      "text/plain": [
       "                                     title    year  score  runtime                          genres      votes Action  Adult Adventure Animation Biography Comedy  Crime  Drama Family Fantasy Film-Noir History Horror  Music Musical Mystery Romance Sci-Fi  Sport Thriller    War Western\n",
       "imdbID                                                                                                                                                                                                                                                                                     \n",
       "tt0111161  The Shawshank Redemption (1994)  (1994)    9.3      142                     Crime|Drama  1,434,256  False  False     False     False     False  False   True   True  False   False     False   False  False  False   False   False   False  False  False    False  False   False\n",
       "tt0468569           The Dark Knight (2008)  (2008)    9.0      152              Action|Crime|Drama  1,404,761   True  False     False     False     False  False   True   True  False   False     False   False  False  False   False   False   False  False  False    False  False   False\n",
       "tt1375666                 Inception (2010)  (2010)    8.8      148  Action|Mystery|Sci-Fi|Thriller  1,203,863   True  False     False     False     False  False  False  False  False   False     False   False  False  False   False    True   False   True  False     True  False   False\n",
       "tt0137523                Fight Club (1999)  (1999)    8.9      139                           Drama  1,118,852  False  False     False     False     False  False  False   True  False   False     False   False  False  False   False   False   False  False  False    False  False   False\n",
       "tt0110912              Pulp Fiction (1994)  (1994)    8.9      154                     Crime|Drama  1,113,162  False  False     False     False     False  False   True   True  False   False     False   False  False  False   False   False   False  False  False    False  False   False"
      ]
     },
     "execution_count": 11,
     "metadata": {},
     "output_type": "execute_result"
    }
   ],
   "source": [
    "#determine all the unique genres\n",
    "genres = set()\n",
    "for m in data.genres:\n",
    "    genres.update(g for g in m.split('|'))\n",
    "\n",
    "genres = sorted(genres)\n",
    "\n",
    "#make a column for each genres\n",
    "for genre in genres:\n",
    "    data[genre] = [genre in m.split('|') for m in data.genres]\n",
    "\n",
    "data.head()"
   ]
  },
  {
   "cell_type": "markdown",
   "metadata": {},
   "source": [
    "### Removing year from the title\n",
    "We can fix each element by stripping off the last 7 characters:"
   ]
  },
  {
   "cell_type": "code",
   "execution_count": 13,
   "metadata": {
    "collapsed": false
   },
   "outputs": [
    {
     "data": {
      "text/html": [
       "<div>\n",
       "<table border=\"1\" class=\"dataframe\">\n",
       "  <thead>\n",
       "    <tr style=\"text-align: right;\">\n",
       "      <th></th>\n",
       "      <th>title</th>\n",
       "      <th>year</th>\n",
       "      <th>score</th>\n",
       "      <th>runtime</th>\n",
       "      <th>genres</th>\n",
       "      <th>votes</th>\n",
       "      <th>Action</th>\n",
       "      <th>Adult</th>\n",
       "      <th>Adventure</th>\n",
       "      <th>Animation</th>\n",
       "      <th>Biography</th>\n",
       "      <th>Comedy</th>\n",
       "      <th>Crime</th>\n",
       "      <th>Drama</th>\n",
       "      <th>Family</th>\n",
       "      <th>Fantasy</th>\n",
       "      <th>Film-Noir</th>\n",
       "      <th>History</th>\n",
       "      <th>Horror</th>\n",
       "      <th>Music</th>\n",
       "      <th>Musical</th>\n",
       "      <th>Mystery</th>\n",
       "      <th>Romance</th>\n",
       "      <th>Sci-Fi</th>\n",
       "      <th>Sport</th>\n",
       "      <th>Thriller</th>\n",
       "      <th>War</th>\n",
       "      <th>Western</th>\n",
       "    </tr>\n",
       "    <tr>\n",
       "      <th>imdbID</th>\n",
       "      <th></th>\n",
       "      <th></th>\n",
       "      <th></th>\n",
       "      <th></th>\n",
       "      <th></th>\n",
       "      <th></th>\n",
       "      <th></th>\n",
       "      <th></th>\n",
       "      <th></th>\n",
       "      <th></th>\n",
       "      <th></th>\n",
       "      <th></th>\n",
       "      <th></th>\n",
       "      <th></th>\n",
       "      <th></th>\n",
       "      <th></th>\n",
       "      <th></th>\n",
       "      <th></th>\n",
       "      <th></th>\n",
       "      <th></th>\n",
       "      <th></th>\n",
       "      <th></th>\n",
       "      <th></th>\n",
       "      <th></th>\n",
       "      <th></th>\n",
       "      <th></th>\n",
       "      <th></th>\n",
       "      <th></th>\n",
       "    </tr>\n",
       "  </thead>\n",
       "  <tbody>\n",
       "    <tr>\n",
       "      <th>tt0111161</th>\n",
       "      <td>The Shawshank Redemption</td>\n",
       "      <td>(1994)</td>\n",
       "      <td>9.3</td>\n",
       "      <td>142</td>\n",
       "      <td>Crime|Drama</td>\n",
       "      <td>1,434,256</td>\n",
       "      <td>False</td>\n",
       "      <td>False</td>\n",
       "      <td>False</td>\n",
       "      <td>False</td>\n",
       "      <td>False</td>\n",
       "      <td>False</td>\n",
       "      <td>True</td>\n",
       "      <td>True</td>\n",
       "      <td>False</td>\n",
       "      <td>False</td>\n",
       "      <td>False</td>\n",
       "      <td>False</td>\n",
       "      <td>False</td>\n",
       "      <td>False</td>\n",
       "      <td>False</td>\n",
       "      <td>False</td>\n",
       "      <td>False</td>\n",
       "      <td>False</td>\n",
       "      <td>False</td>\n",
       "      <td>False</td>\n",
       "      <td>False</td>\n",
       "      <td>False</td>\n",
       "    </tr>\n",
       "    <tr>\n",
       "      <th>tt0468569</th>\n",
       "      <td>The Dark Knight</td>\n",
       "      <td>(2008)</td>\n",
       "      <td>9.0</td>\n",
       "      <td>152</td>\n",
       "      <td>Action|Crime|Drama</td>\n",
       "      <td>1,404,761</td>\n",
       "      <td>True</td>\n",
       "      <td>False</td>\n",
       "      <td>False</td>\n",
       "      <td>False</td>\n",
       "      <td>False</td>\n",
       "      <td>False</td>\n",
       "      <td>True</td>\n",
       "      <td>True</td>\n",
       "      <td>False</td>\n",
       "      <td>False</td>\n",
       "      <td>False</td>\n",
       "      <td>False</td>\n",
       "      <td>False</td>\n",
       "      <td>False</td>\n",
       "      <td>False</td>\n",
       "      <td>False</td>\n",
       "      <td>False</td>\n",
       "      <td>False</td>\n",
       "      <td>False</td>\n",
       "      <td>False</td>\n",
       "      <td>False</td>\n",
       "      <td>False</td>\n",
       "    </tr>\n",
       "    <tr>\n",
       "      <th>tt1375666</th>\n",
       "      <td>Inception</td>\n",
       "      <td>(2010)</td>\n",
       "      <td>8.8</td>\n",
       "      <td>148</td>\n",
       "      <td>Action|Mystery|Sci-Fi|Thriller</td>\n",
       "      <td>1,203,863</td>\n",
       "      <td>True</td>\n",
       "      <td>False</td>\n",
       "      <td>False</td>\n",
       "      <td>False</td>\n",
       "      <td>False</td>\n",
       "      <td>False</td>\n",
       "      <td>False</td>\n",
       "      <td>False</td>\n",
       "      <td>False</td>\n",
       "      <td>False</td>\n",
       "      <td>False</td>\n",
       "      <td>False</td>\n",
       "      <td>False</td>\n",
       "      <td>False</td>\n",
       "      <td>False</td>\n",
       "      <td>True</td>\n",
       "      <td>False</td>\n",
       "      <td>True</td>\n",
       "      <td>False</td>\n",
       "      <td>True</td>\n",
       "      <td>False</td>\n",
       "      <td>False</td>\n",
       "    </tr>\n",
       "    <tr>\n",
       "      <th>tt0137523</th>\n",
       "      <td>Fight Club</td>\n",
       "      <td>(1999)</td>\n",
       "      <td>8.9</td>\n",
       "      <td>139</td>\n",
       "      <td>Drama</td>\n",
       "      <td>1,118,852</td>\n",
       "      <td>False</td>\n",
       "      <td>False</td>\n",
       "      <td>False</td>\n",
       "      <td>False</td>\n",
       "      <td>False</td>\n",
       "      <td>False</td>\n",
       "      <td>False</td>\n",
       "      <td>True</td>\n",
       "      <td>False</td>\n",
       "      <td>False</td>\n",
       "      <td>False</td>\n",
       "      <td>False</td>\n",
       "      <td>False</td>\n",
       "      <td>False</td>\n",
       "      <td>False</td>\n",
       "      <td>False</td>\n",
       "      <td>False</td>\n",
       "      <td>False</td>\n",
       "      <td>False</td>\n",
       "      <td>False</td>\n",
       "      <td>False</td>\n",
       "      <td>False</td>\n",
       "    </tr>\n",
       "    <tr>\n",
       "      <th>tt0110912</th>\n",
       "      <td>Pulp Fiction</td>\n",
       "      <td>(1994)</td>\n",
       "      <td>8.9</td>\n",
       "      <td>154</td>\n",
       "      <td>Crime|Drama</td>\n",
       "      <td>1,113,162</td>\n",
       "      <td>False</td>\n",
       "      <td>False</td>\n",
       "      <td>False</td>\n",
       "      <td>False</td>\n",
       "      <td>False</td>\n",
       "      <td>False</td>\n",
       "      <td>True</td>\n",
       "      <td>True</td>\n",
       "      <td>False</td>\n",
       "      <td>False</td>\n",
       "      <td>False</td>\n",
       "      <td>False</td>\n",
       "      <td>False</td>\n",
       "      <td>False</td>\n",
       "      <td>False</td>\n",
       "      <td>False</td>\n",
       "      <td>False</td>\n",
       "      <td>False</td>\n",
       "      <td>False</td>\n",
       "      <td>False</td>\n",
       "      <td>False</td>\n",
       "      <td>False</td>\n",
       "    </tr>\n",
       "  </tbody>\n",
       "</table>\n",
       "</div>"
      ],
      "text/plain": [
       "                              title    year  score  runtime                          genres      votes Action  Adult Adventure Animation Biography Comedy  Crime  Drama Family Fantasy Film-Noir History Horror  Music Musical Mystery Romance Sci-Fi  Sport Thriller    War Western\n",
       "imdbID                                                                                                                                                                                                                                                                              \n",
       "tt0111161  The Shawshank Redemption  (1994)    9.3      142                     Crime|Drama  1,434,256  False  False     False     False     False  False   True   True  False   False     False   False  False  False   False   False   False  False  False    False  False   False\n",
       "tt0468569           The Dark Knight  (2008)    9.0      152              Action|Crime|Drama  1,404,761   True  False     False     False     False  False   True   True  False   False     False   False  False  False   False   False   False  False  False    False  False   False\n",
       "tt1375666                 Inception  (2010)    8.8      148  Action|Mystery|Sci-Fi|Thriller  1,203,863   True  False     False     False     False  False  False  False  False   False     False   False  False  False   False    True   False   True  False     True  False   False\n",
       "tt0137523                Fight Club  (1999)    8.9      139                           Drama  1,118,852  False  False     False     False     False  False  False   True  False   False     False   False  False  False   False   False   False  False  False    False  False   False\n",
       "tt0110912              Pulp Fiction  (1994)    8.9      154                     Crime|Drama  1,113,162  False  False     False     False     False  False   True   True  False   False     False   False  False  False   False   False   False  False  False    False  False   False"
      ]
     },
     "execution_count": 13,
     "metadata": {},
     "output_type": "execute_result"
    }
   ],
   "source": [
    "data['title'] = [t[0:-7] for t in data.title]\n",
    "data.head()"
   ]
  },
  {
   "cell_type": "markdown",
   "metadata": {},
   "source": [
    "### Removing brackets around year\n",
    "We can fix each element by getting the number from within the brackets:"
   ]
  },
  {
   "cell_type": "code",
   "execution_count": 14,
   "metadata": {
    "collapsed": false
   },
   "outputs": [
    {
     "data": {
      "text/html": [
       "<div>\n",
       "<table border=\"1\" class=\"dataframe\">\n",
       "  <thead>\n",
       "    <tr style=\"text-align: right;\">\n",
       "      <th></th>\n",
       "      <th>title</th>\n",
       "      <th>year</th>\n",
       "      <th>score</th>\n",
       "      <th>runtime</th>\n",
       "      <th>genres</th>\n",
       "      <th>votes</th>\n",
       "      <th>Action</th>\n",
       "      <th>Adult</th>\n",
       "      <th>Adventure</th>\n",
       "      <th>Animation</th>\n",
       "      <th>Biography</th>\n",
       "      <th>Comedy</th>\n",
       "      <th>Crime</th>\n",
       "      <th>Drama</th>\n",
       "      <th>Family</th>\n",
       "      <th>Fantasy</th>\n",
       "      <th>Film-Noir</th>\n",
       "      <th>History</th>\n",
       "      <th>Horror</th>\n",
       "      <th>Music</th>\n",
       "      <th>Musical</th>\n",
       "      <th>Mystery</th>\n",
       "      <th>Romance</th>\n",
       "      <th>Sci-Fi</th>\n",
       "      <th>Sport</th>\n",
       "      <th>Thriller</th>\n",
       "      <th>War</th>\n",
       "      <th>Western</th>\n",
       "    </tr>\n",
       "    <tr>\n",
       "      <th>imdbID</th>\n",
       "      <th></th>\n",
       "      <th></th>\n",
       "      <th></th>\n",
       "      <th></th>\n",
       "      <th></th>\n",
       "      <th></th>\n",
       "      <th></th>\n",
       "      <th></th>\n",
       "      <th></th>\n",
       "      <th></th>\n",
       "      <th></th>\n",
       "      <th></th>\n",
       "      <th></th>\n",
       "      <th></th>\n",
       "      <th></th>\n",
       "      <th></th>\n",
       "      <th></th>\n",
       "      <th></th>\n",
       "      <th></th>\n",
       "      <th></th>\n",
       "      <th></th>\n",
       "      <th></th>\n",
       "      <th></th>\n",
       "      <th></th>\n",
       "      <th></th>\n",
       "      <th></th>\n",
       "      <th></th>\n",
       "      <th></th>\n",
       "    </tr>\n",
       "  </thead>\n",
       "  <tbody>\n",
       "    <tr>\n",
       "      <th>tt0111161</th>\n",
       "      <td>The Shawshank Redemption</td>\n",
       "      <td>1994</td>\n",
       "      <td>9.3</td>\n",
       "      <td>142</td>\n",
       "      <td>Crime|Drama</td>\n",
       "      <td>1,434,256</td>\n",
       "      <td>False</td>\n",
       "      <td>False</td>\n",
       "      <td>False</td>\n",
       "      <td>False</td>\n",
       "      <td>False</td>\n",
       "      <td>False</td>\n",
       "      <td>True</td>\n",
       "      <td>True</td>\n",
       "      <td>False</td>\n",
       "      <td>False</td>\n",
       "      <td>False</td>\n",
       "      <td>False</td>\n",
       "      <td>False</td>\n",
       "      <td>False</td>\n",
       "      <td>False</td>\n",
       "      <td>False</td>\n",
       "      <td>False</td>\n",
       "      <td>False</td>\n",
       "      <td>False</td>\n",
       "      <td>False</td>\n",
       "      <td>False</td>\n",
       "      <td>False</td>\n",
       "    </tr>\n",
       "    <tr>\n",
       "      <th>tt0468569</th>\n",
       "      <td>The Dark Knight</td>\n",
       "      <td>2008</td>\n",
       "      <td>9.0</td>\n",
       "      <td>152</td>\n",
       "      <td>Action|Crime|Drama</td>\n",
       "      <td>1,404,761</td>\n",
       "      <td>True</td>\n",
       "      <td>False</td>\n",
       "      <td>False</td>\n",
       "      <td>False</td>\n",
       "      <td>False</td>\n",
       "      <td>False</td>\n",
       "      <td>True</td>\n",
       "      <td>True</td>\n",
       "      <td>False</td>\n",
       "      <td>False</td>\n",
       "      <td>False</td>\n",
       "      <td>False</td>\n",
       "      <td>False</td>\n",
       "      <td>False</td>\n",
       "      <td>False</td>\n",
       "      <td>False</td>\n",
       "      <td>False</td>\n",
       "      <td>False</td>\n",
       "      <td>False</td>\n",
       "      <td>False</td>\n",
       "      <td>False</td>\n",
       "      <td>False</td>\n",
       "    </tr>\n",
       "    <tr>\n",
       "      <th>tt1375666</th>\n",
       "      <td>Inception</td>\n",
       "      <td>2010</td>\n",
       "      <td>8.8</td>\n",
       "      <td>148</td>\n",
       "      <td>Action|Mystery|Sci-Fi|Thriller</td>\n",
       "      <td>1,203,863</td>\n",
       "      <td>True</td>\n",
       "      <td>False</td>\n",
       "      <td>False</td>\n",
       "      <td>False</td>\n",
       "      <td>False</td>\n",
       "      <td>False</td>\n",
       "      <td>False</td>\n",
       "      <td>False</td>\n",
       "      <td>False</td>\n",
       "      <td>False</td>\n",
       "      <td>False</td>\n",
       "      <td>False</td>\n",
       "      <td>False</td>\n",
       "      <td>False</td>\n",
       "      <td>False</td>\n",
       "      <td>True</td>\n",
       "      <td>False</td>\n",
       "      <td>True</td>\n",
       "      <td>False</td>\n",
       "      <td>True</td>\n",
       "      <td>False</td>\n",
       "      <td>False</td>\n",
       "    </tr>\n",
       "    <tr>\n",
       "      <th>tt0137523</th>\n",
       "      <td>Fight Club</td>\n",
       "      <td>1999</td>\n",
       "      <td>8.9</td>\n",
       "      <td>139</td>\n",
       "      <td>Drama</td>\n",
       "      <td>1,118,852</td>\n",
       "      <td>False</td>\n",
       "      <td>False</td>\n",
       "      <td>False</td>\n",
       "      <td>False</td>\n",
       "      <td>False</td>\n",
       "      <td>False</td>\n",
       "      <td>False</td>\n",
       "      <td>True</td>\n",
       "      <td>False</td>\n",
       "      <td>False</td>\n",
       "      <td>False</td>\n",
       "      <td>False</td>\n",
       "      <td>False</td>\n",
       "      <td>False</td>\n",
       "      <td>False</td>\n",
       "      <td>False</td>\n",
       "      <td>False</td>\n",
       "      <td>False</td>\n",
       "      <td>False</td>\n",
       "      <td>False</td>\n",
       "      <td>False</td>\n",
       "      <td>False</td>\n",
       "    </tr>\n",
       "    <tr>\n",
       "      <th>tt0110912</th>\n",
       "      <td>Pulp Fiction</td>\n",
       "      <td>1994</td>\n",
       "      <td>8.9</td>\n",
       "      <td>154</td>\n",
       "      <td>Crime|Drama</td>\n",
       "      <td>1,113,162</td>\n",
       "      <td>False</td>\n",
       "      <td>False</td>\n",
       "      <td>False</td>\n",
       "      <td>False</td>\n",
       "      <td>False</td>\n",
       "      <td>False</td>\n",
       "      <td>True</td>\n",
       "      <td>True</td>\n",
       "      <td>False</td>\n",
       "      <td>False</td>\n",
       "      <td>False</td>\n",
       "      <td>False</td>\n",
       "      <td>False</td>\n",
       "      <td>False</td>\n",
       "      <td>False</td>\n",
       "      <td>False</td>\n",
       "      <td>False</td>\n",
       "      <td>False</td>\n",
       "      <td>False</td>\n",
       "      <td>False</td>\n",
       "      <td>False</td>\n",
       "      <td>False</td>\n",
       "    </tr>\n",
       "  </tbody>\n",
       "</table>\n",
       "</div>"
      ],
      "text/plain": [
       "                              title  year  score  runtime                          genres      votes Action  Adult Adventure Animation Biography Comedy  Crime  Drama Family Fantasy Film-Noir History Horror  Music Musical Mystery Romance Sci-Fi  Sport Thriller    War Western\n",
       "imdbID                                                                                                                                                                                                                                                                            \n",
       "tt0111161  The Shawshank Redemption  1994    9.3      142                     Crime|Drama  1,434,256  False  False     False     False     False  False   True   True  False   False     False   False  False  False   False   False   False  False  False    False  False   False\n",
       "tt0468569           The Dark Knight  2008    9.0      152              Action|Crime|Drama  1,404,761   True  False     False     False     False  False   True   True  False   False     False   False  False  False   False   False   False  False  False    False  False   False\n",
       "tt1375666                 Inception  2010    8.8      148  Action|Mystery|Sci-Fi|Thriller  1,203,863   True  False     False     False     False  False  False  False  False   False     False   False  False  False   False    True   False   True  False     True  False   False\n",
       "tt0137523                Fight Club  1999    8.9      139                           Drama  1,118,852  False  False     False     False     False  False  False   True  False   False     False   False  False  False   False   False   False  False  False    False  False   False\n",
       "tt0110912              Pulp Fiction  1994    8.9      154                     Crime|Drama  1,113,162  False  False     False     False     False  False   True   True  False   False     False   False  False  False   False   False   False  False  False    False  False   False"
      ]
     },
     "execution_count": 14,
     "metadata": {},
     "output_type": "execute_result"
    }
   ],
   "source": [
    "data['year'] = [int(y.replace('(', '').strip(')')) for y in data.year]\n",
    "data.head()"
   ]
  },
  {
   "cell_type": "markdown",
   "metadata": {},
   "source": [
    "### Fixing votes format\n",
    "We can fix each vote similarly to above:"
   ]
  },
  {
   "cell_type": "code",
   "execution_count": 15,
   "metadata": {
    "collapsed": false
   },
   "outputs": [
    {
     "data": {
      "text/html": [
       "<div>\n",
       "<table border=\"1\" class=\"dataframe\">\n",
       "  <thead>\n",
       "    <tr style=\"text-align: right;\">\n",
       "      <th></th>\n",
       "      <th>title</th>\n",
       "      <th>year</th>\n",
       "      <th>score</th>\n",
       "      <th>runtime</th>\n",
       "      <th>genres</th>\n",
       "      <th>votes</th>\n",
       "      <th>Action</th>\n",
       "      <th>Adult</th>\n",
       "      <th>Adventure</th>\n",
       "      <th>Animation</th>\n",
       "      <th>Biography</th>\n",
       "      <th>Comedy</th>\n",
       "      <th>Crime</th>\n",
       "      <th>Drama</th>\n",
       "      <th>Family</th>\n",
       "      <th>Fantasy</th>\n",
       "      <th>Film-Noir</th>\n",
       "      <th>History</th>\n",
       "      <th>Horror</th>\n",
       "      <th>Music</th>\n",
       "      <th>Musical</th>\n",
       "      <th>Mystery</th>\n",
       "      <th>Romance</th>\n",
       "      <th>Sci-Fi</th>\n",
       "      <th>Sport</th>\n",
       "      <th>Thriller</th>\n",
       "      <th>War</th>\n",
       "      <th>Western</th>\n",
       "    </tr>\n",
       "    <tr>\n",
       "      <th>imdbID</th>\n",
       "      <th></th>\n",
       "      <th></th>\n",
       "      <th></th>\n",
       "      <th></th>\n",
       "      <th></th>\n",
       "      <th></th>\n",
       "      <th></th>\n",
       "      <th></th>\n",
       "      <th></th>\n",
       "      <th></th>\n",
       "      <th></th>\n",
       "      <th></th>\n",
       "      <th></th>\n",
       "      <th></th>\n",
       "      <th></th>\n",
       "      <th></th>\n",
       "      <th></th>\n",
       "      <th></th>\n",
       "      <th></th>\n",
       "      <th></th>\n",
       "      <th></th>\n",
       "      <th></th>\n",
       "      <th></th>\n",
       "      <th></th>\n",
       "      <th></th>\n",
       "      <th></th>\n",
       "      <th></th>\n",
       "      <th></th>\n",
       "    </tr>\n",
       "  </thead>\n",
       "  <tbody>\n",
       "    <tr>\n",
       "      <th>tt0111161</th>\n",
       "      <td>The Shawshank Redemption</td>\n",
       "      <td>1994</td>\n",
       "      <td>9.3</td>\n",
       "      <td>142</td>\n",
       "      <td>Crime|Drama</td>\n",
       "      <td>1434256</td>\n",
       "      <td>False</td>\n",
       "      <td>False</td>\n",
       "      <td>False</td>\n",
       "      <td>False</td>\n",
       "      <td>False</td>\n",
       "      <td>False</td>\n",
       "      <td>True</td>\n",
       "      <td>True</td>\n",
       "      <td>False</td>\n",
       "      <td>False</td>\n",
       "      <td>False</td>\n",
       "      <td>False</td>\n",
       "      <td>False</td>\n",
       "      <td>False</td>\n",
       "      <td>False</td>\n",
       "      <td>False</td>\n",
       "      <td>False</td>\n",
       "      <td>False</td>\n",
       "      <td>False</td>\n",
       "      <td>False</td>\n",
       "      <td>False</td>\n",
       "      <td>False</td>\n",
       "    </tr>\n",
       "    <tr>\n",
       "      <th>tt0468569</th>\n",
       "      <td>The Dark Knight</td>\n",
       "      <td>2008</td>\n",
       "      <td>9.0</td>\n",
       "      <td>152</td>\n",
       "      <td>Action|Crime|Drama</td>\n",
       "      <td>1404761</td>\n",
       "      <td>True</td>\n",
       "      <td>False</td>\n",
       "      <td>False</td>\n",
       "      <td>False</td>\n",
       "      <td>False</td>\n",
       "      <td>False</td>\n",
       "      <td>True</td>\n",
       "      <td>True</td>\n",
       "      <td>False</td>\n",
       "      <td>False</td>\n",
       "      <td>False</td>\n",
       "      <td>False</td>\n",
       "      <td>False</td>\n",
       "      <td>False</td>\n",
       "      <td>False</td>\n",
       "      <td>False</td>\n",
       "      <td>False</td>\n",
       "      <td>False</td>\n",
       "      <td>False</td>\n",
       "      <td>False</td>\n",
       "      <td>False</td>\n",
       "      <td>False</td>\n",
       "    </tr>\n",
       "    <tr>\n",
       "      <th>tt1375666</th>\n",
       "      <td>Inception</td>\n",
       "      <td>2010</td>\n",
       "      <td>8.8</td>\n",
       "      <td>148</td>\n",
       "      <td>Action|Mystery|Sci-Fi|Thriller</td>\n",
       "      <td>1203863</td>\n",
       "      <td>True</td>\n",
       "      <td>False</td>\n",
       "      <td>False</td>\n",
       "      <td>False</td>\n",
       "      <td>False</td>\n",
       "      <td>False</td>\n",
       "      <td>False</td>\n",
       "      <td>False</td>\n",
       "      <td>False</td>\n",
       "      <td>False</td>\n",
       "      <td>False</td>\n",
       "      <td>False</td>\n",
       "      <td>False</td>\n",
       "      <td>False</td>\n",
       "      <td>False</td>\n",
       "      <td>True</td>\n",
       "      <td>False</td>\n",
       "      <td>True</td>\n",
       "      <td>False</td>\n",
       "      <td>True</td>\n",
       "      <td>False</td>\n",
       "      <td>False</td>\n",
       "    </tr>\n",
       "    <tr>\n",
       "      <th>tt0137523</th>\n",
       "      <td>Fight Club</td>\n",
       "      <td>1999</td>\n",
       "      <td>8.9</td>\n",
       "      <td>139</td>\n",
       "      <td>Drama</td>\n",
       "      <td>1118852</td>\n",
       "      <td>False</td>\n",
       "      <td>False</td>\n",
       "      <td>False</td>\n",
       "      <td>False</td>\n",
       "      <td>False</td>\n",
       "      <td>False</td>\n",
       "      <td>False</td>\n",
       "      <td>True</td>\n",
       "      <td>False</td>\n",
       "      <td>False</td>\n",
       "      <td>False</td>\n",
       "      <td>False</td>\n",
       "      <td>False</td>\n",
       "      <td>False</td>\n",
       "      <td>False</td>\n",
       "      <td>False</td>\n",
       "      <td>False</td>\n",
       "      <td>False</td>\n",
       "      <td>False</td>\n",
       "      <td>False</td>\n",
       "      <td>False</td>\n",
       "      <td>False</td>\n",
       "    </tr>\n",
       "    <tr>\n",
       "      <th>tt0110912</th>\n",
       "      <td>Pulp Fiction</td>\n",
       "      <td>1994</td>\n",
       "      <td>8.9</td>\n",
       "      <td>154</td>\n",
       "      <td>Crime|Drama</td>\n",
       "      <td>1113162</td>\n",
       "      <td>False</td>\n",
       "      <td>False</td>\n",
       "      <td>False</td>\n",
       "      <td>False</td>\n",
       "      <td>False</td>\n",
       "      <td>False</td>\n",
       "      <td>True</td>\n",
       "      <td>True</td>\n",
       "      <td>False</td>\n",
       "      <td>False</td>\n",
       "      <td>False</td>\n",
       "      <td>False</td>\n",
       "      <td>False</td>\n",
       "      <td>False</td>\n",
       "      <td>False</td>\n",
       "      <td>False</td>\n",
       "      <td>False</td>\n",
       "      <td>False</td>\n",
       "      <td>False</td>\n",
       "      <td>False</td>\n",
       "      <td>False</td>\n",
       "      <td>False</td>\n",
       "    </tr>\n",
       "  </tbody>\n",
       "</table>\n",
       "</div>"
      ],
      "text/plain": [
       "                              title  year  score  runtime                          genres    votes Action  Adult Adventure Animation Biography Comedy  Crime  Drama Family Fantasy Film-Noir History Horror  Music Musical Mystery Romance Sci-Fi  Sport Thriller    War Western\n",
       "imdbID                                                                                                                                                                                                                                                                          \n",
       "tt0111161  The Shawshank Redemption  1994    9.3      142                     Crime|Drama  1434256  False  False     False     False     False  False   True   True  False   False     False   False  False  False   False   False   False  False  False    False  False   False\n",
       "tt0468569           The Dark Knight  2008    9.0      152              Action|Crime|Drama  1404761   True  False     False     False     False  False   True   True  False   False     False   False  False  False   False   False   False  False  False    False  False   False\n",
       "tt1375666                 Inception  2010    8.8      148  Action|Mystery|Sci-Fi|Thriller  1203863   True  False     False     False     False  False  False  False  False   False     False   False  False  False   False    True   False   True  False     True  False   False\n",
       "tt0137523                Fight Club  1999    8.9      139                           Drama  1118852  False  False     False     False     False  False  False   True  False   False     False   False  False  False   False   False   False  False  False    False  False   False\n",
       "tt0110912              Pulp Fiction  1994    8.9      154                     Crime|Drama  1113162  False  False     False     False     False  False   True   True  False   False     False   False  False  False   False   False   False  False  False    False  False   False"
      ]
     },
     "execution_count": 15,
     "metadata": {},
     "output_type": "execute_result"
    }
   ],
   "source": [
    "data['votes'] = [int(v.replace(',', '')) for v in data.votes]\n",
    "data.head()"
   ]
  },
  {
   "cell_type": "markdown",
   "metadata": {},
   "source": [
    "## 3. Explore Global Properties\n",
    "\n",
    "Next, we get a handle on some basic, global summaries of the DataFrame.\n",
    "\n",
    "### Call `describe` on relevant columns"
   ]
  },
  {
   "cell_type": "code",
   "execution_count": 16,
   "metadata": {
    "collapsed": false
   },
   "outputs": [
    {
     "data": {
      "text/html": [
       "<div>\n",
       "<table border=\"1\" class=\"dataframe\">\n",
       "  <thead>\n",
       "    <tr style=\"text-align: right;\">\n",
       "      <th></th>\n",
       "      <th>year</th>\n",
       "      <th>score</th>\n",
       "      <th>votes</th>\n",
       "      <th>runtime</th>\n",
       "    </tr>\n",
       "  </thead>\n",
       "  <tbody>\n",
       "    <tr>\n",
       "      <th>count</th>\n",
       "      <td>10000.000000</td>\n",
       "      <td>10000.000000</td>\n",
       "      <td>10000.000000</td>\n",
       "      <td>9968.000000</td>\n",
       "    </tr>\n",
       "    <tr>\n",
       "      <th>mean</th>\n",
       "      <td>1995.985500</td>\n",
       "      <td>6.575040</td>\n",
       "      <td>43533.835700</td>\n",
       "      <td>107.854133</td>\n",
       "    </tr>\n",
       "    <tr>\n",
       "      <th>std</th>\n",
       "      <td>16.621068</td>\n",
       "      <td>1.086435</td>\n",
       "      <td>87569.574657</td>\n",
       "      <td>21.555782</td>\n",
       "    </tr>\n",
       "    <tr>\n",
       "      <th>min</th>\n",
       "      <td>1940.000000</td>\n",
       "      <td>1.600000</td>\n",
       "      <td>3401.000000</td>\n",
       "      <td>46.000000</td>\n",
       "    </tr>\n",
       "    <tr>\n",
       "      <th>25%</th>\n",
       "      <td>1989.000000</td>\n",
       "      <td>6.000000</td>\n",
       "      <td>5830.750000</td>\n",
       "      <td>94.000000</td>\n",
       "    </tr>\n",
       "    <tr>\n",
       "      <th>50%</th>\n",
       "      <td>2001.000000</td>\n",
       "      <td>6.700000</td>\n",
       "      <td>12812.000000</td>\n",
       "      <td>104.000000</td>\n",
       "    </tr>\n",
       "    <tr>\n",
       "      <th>75%</th>\n",
       "      <td>2008.000000</td>\n",
       "      <td>7.400000</td>\n",
       "      <td>40203.750000</td>\n",
       "      <td>117.000000</td>\n",
       "    </tr>\n",
       "    <tr>\n",
       "      <th>max</th>\n",
       "      <td>2015.000000</td>\n",
       "      <td>9.400000</td>\n",
       "      <td>1434256.000000</td>\n",
       "      <td>450.000000</td>\n",
       "    </tr>\n",
       "  </tbody>\n",
       "</table>\n",
       "</div>"
      ],
      "text/plain": [
       "               year         score           votes      runtime\n",
       "count  10000.000000  10000.000000    10000.000000  9968.000000\n",
       "mean    1995.985500      6.575040    43533.835700   107.854133\n",
       "std       16.621068      1.086435    87569.574657    21.555782\n",
       "min     1940.000000      1.600000     3401.000000    46.000000\n",
       "25%     1989.000000      6.000000     5830.750000    94.000000\n",
       "50%     2001.000000      6.700000    12812.000000   104.000000\n",
       "75%     2008.000000      7.400000    40203.750000   117.000000\n",
       "max     2015.000000      9.400000  1434256.000000   450.000000"
      ]
     },
     "execution_count": 16,
     "metadata": {},
     "output_type": "execute_result"
    }
   ],
   "source": [
    "data[['year','score','votes','runtime']].describe()"
   ]
  },
  {
   "cell_type": "markdown",
   "metadata": {},
   "source": [
    "### Make some basic plots"
   ]
  },
  {
   "cell_type": "code",
   "execution_count": 17,
   "metadata": {
    "collapsed": false
   },
   "outputs": [
    {
     "data": {
      "image/png": "[encoded data removed]",
      "text/plain": [
       "<matplotlib.figure.Figure at 0x7f603db76250>"
      ]
     },
     "metadata": {},
     "output_type": "display_data"
    }
   ],
   "source": [
    "plt.hist(data.year,bins=np.arange(1940,2015),color='#cccccc')\n",
    "plt.xlabel(\"Release Year\")\n",
    "plt.ylabel(\"Number\")\n",
    "remove_border()"
   ]
  },
  {
   "cell_type": "code",
   "execution_count": 18,
   "metadata": {
    "collapsed": false
   },
   "outputs": [
    {
     "data": {
      "image/png": "[encoded data removed]",
      "text/plain": [
       "<matplotlib.figure.Figure at 0x7f6024246c90>"
      ]
     },
     "metadata": {},
     "output_type": "display_data"
    }
   ],
   "source": [
    "plt.hist(data.score, bins=40, color='#cccccc')\n",
    "plt.xlabel(\"IMDB Rating\")\n",
    "plt.ylabel(\"Number\")\n",
    "remove_border()"
   ]
  },
  {
   "cell_type": "code",
   "execution_count": 19,
   "metadata": {
    "collapsed": false
   },
   "outputs": [
    {
     "data": {
      "image/png": "[encoded data removed]",
      "text/plain": [
       "<matplotlib.figure.Figure at 0x7f60240e5e50>"
      ]
     },
     "metadata": {},
     "output_type": "display_data"
    }
   ],
   "source": [
    "plt.hist(data.runtime.dropna(), bins=50, color='#cccccc')\n",
    "plt.xlabel(\"Runtime distribution\")\n",
    "plt.ylabel(\"Number\")\n",
    "remove_border()"
   ]
  },
  {
   "cell_type": "code",
   "execution_count": 20,
   "metadata": {
    "collapsed": false
   },
   "outputs": [
    {
     "data": {
      "image/png": "[encoded data removed]",
      "text/plain": [
       "<matplotlib.figure.Figure at 0x7f60240ed5d0>"
      ]
     },
     "metadata": {},
     "output_type": "display_data"
    }
   ],
   "source": [
    "plt.scatter(data.year, data.score, lw=0, alpha=0.08, color='k')\n",
    "plt.xlabel(\"Year\")\n",
    "plt.ylabel(\"IMDB Rating\")\n",
    "remove_border()"
   ]
  },
  {
   "cell_type": "code",
   "execution_count": 21,
   "metadata": {
    "collapsed": false
   },
   "outputs": [
    {
     "data": {
      "image/png": "[encoded data removed]",
      "text/plain": [
       "<matplotlib.figure.Figure at 0x7f6023f420d0>"
      ]
     },
     "metadata": {},
     "output_type": "display_data"
    }
   ],
   "source": [
    "plt.scatter(data.score, data.runtime, lw=0, alpha=0.08, color='k')\n",
    "plt.xlabel(\"Score\")\n",
    "plt.ylabel(\"Runtime\")\n",
    "remove_border()"
   ]
  },
  {
   "cell_type": "code",
   "execution_count": 22,
   "metadata": {
    "collapsed": false
   },
   "outputs": [
    {
     "data": {
      "image/png": "[encoded data removed]",
      "text/plain": [
       "<matplotlib.figure.Figure at 0x7f60241d6a50>"
      ]
     },
     "metadata": {},
     "output_type": "display_data"
    }
   ],
   "source": [
    "plt.scatter(data.votes, data.score, lw=0, alpha=0.08, color='k')\n",
    "plt.xlabel(\"Number of votes\")\n",
    "plt.ylabel(\"IMDB Rating\")\n",
    "plt.xscale('log')\n",
    "remove_border()"
   ]
  },
  {
   "cell_type": "markdown",
   "metadata": {},
   "source": [
    "### Identify some outliers"
   ]
  },
  {
   "cell_type": "code",
   "execution_count": 23,
   "metadata": {
    "collapsed": false
   },
   "outputs": [
    {
     "data": {
      "text/html": [
       "<div>\n",
       "<table border=\"1\" class=\"dataframe\">\n",
       "  <thead>\n",
       "    <tr style=\"text-align: right;\">\n",
       "      <th></th>\n",
       "      <th>title</th>\n",
       "      <th>year</th>\n",
       "      <th>score</th>\n",
       "      <th>votes</th>\n",
       "      <th>genres</th>\n",
       "    </tr>\n",
       "    <tr>\n",
       "      <th>imdbID</th>\n",
       "      <th></th>\n",
       "      <th></th>\n",
       "      <th></th>\n",
       "      <th></th>\n",
       "      <th></th>\n",
       "    </tr>\n",
       "  </thead>\n",
       "  <tbody>\n",
       "    <tr>\n",
       "      <th>tt1259571</th>\n",
       "      <td>The Twilight Saga: New Moon</td>\n",
       "      <td>2009</td>\n",
       "      <td>4.6</td>\n",
       "      <td>201124</td>\n",
       "      <td>Adventure|Drama|Fantasy|Romance</td>\n",
       "    </tr>\n",
       "    <tr>\n",
       "      <th>tt0118688</th>\n",
       "      <td>Batman &amp; Robin</td>\n",
       "      <td>1997</td>\n",
       "      <td>3.6</td>\n",
       "      <td>169303</td>\n",
       "      <td>Action</td>\n",
       "    </tr>\n",
       "    <tr>\n",
       "      <th>tt1325004</th>\n",
       "      <td>The Twilight Saga: Eclipse</td>\n",
       "      <td>2010</td>\n",
       "      <td>4.9</td>\n",
       "      <td>165479</td>\n",
       "      <td>Adventure|Drama|Fantasy|Romance</td>\n",
       "    </tr>\n",
       "    <tr>\n",
       "      <th>tt1324999</th>\n",
       "      <td>The Twilight Saga: Breaking Dawn - Part 1</td>\n",
       "      <td>2011</td>\n",
       "      <td>4.9</td>\n",
       "      <td>163994</td>\n",
       "      <td>Adventure|Drama|Fantasy|Romance</td>\n",
       "    </tr>\n",
       "    <tr>\n",
       "      <th>tt2322441</th>\n",
       "      <td>Fifty Shades of Grey</td>\n",
       "      <td>2015</td>\n",
       "      <td>4.2</td>\n",
       "      <td>138293</td>\n",
       "      <td>Drama|Romance</td>\n",
       "    </tr>\n",
       "    <tr>\n",
       "      <th>tt0120891</th>\n",
       "      <td>Wild Wild West</td>\n",
       "      <td>1999</td>\n",
       "      <td>4.8</td>\n",
       "      <td>119127</td>\n",
       "      <td>Action|Western|Comedy|Sci-Fi</td>\n",
       "    </tr>\n",
       "    <tr>\n",
       "      <th>tt0938283</th>\n",
       "      <td>The Last Airbender</td>\n",
       "      <td>2010</td>\n",
       "      <td>4.3</td>\n",
       "      <td>106900</td>\n",
       "      <td>Action|Adventure|Family|Fantasy</td>\n",
       "    </tr>\n",
       "    <tr>\n",
       "      <th>tt0305357</th>\n",
       "      <td>Charlie's Angels: Full Throttle</td>\n",
       "      <td>2003</td>\n",
       "      <td>4.8</td>\n",
       "      <td>93240</td>\n",
       "      <td>Action|Adventure|Comedy|Crime</td>\n",
       "    </tr>\n",
       "  </tbody>\n",
       "</table>\n",
       "</div>"
      ],
      "text/plain": [
       "                                               title  year  score   votes                           genres\n",
       "imdbID                                                                                                    \n",
       "tt1259571                The Twilight Saga: New Moon  2009    4.6  201124  Adventure|Drama|Fantasy|Romance\n",
       "tt0118688                             Batman & Robin  1997    3.6  169303                           Action\n",
       "tt1325004                 The Twilight Saga: Eclipse  2010    4.9  165479  Adventure|Drama|Fantasy|Romance\n",
       "tt1324999  The Twilight Saga: Breaking Dawn - Part 1  2011    4.9  163994  Adventure|Drama|Fantasy|Romance\n",
       "tt2322441                       Fifty Shades of Grey  2015    4.2  138293                    Drama|Romance\n",
       "tt0120891                             Wild Wild West  1999    4.8  119127     Action|Western|Comedy|Sci-Fi\n",
       "tt0938283                         The Last Airbender  2010    4.3  106900  Action|Adventure|Family|Fantasy\n",
       "tt0305357            Charlie's Angels: Full Throttle  2003    4.8   93240    Action|Adventure|Comedy|Crime"
      ]
     },
     "execution_count": 23,
     "metadata": {},
     "output_type": "execute_result"
    }
   ],
   "source": [
    "data[(data.votes > 9e4) & (data.score < 5)][['title','year','score','votes','genres']]"
   ]
  },
  {
   "cell_type": "code",
   "execution_count": 24,
   "metadata": {
    "collapsed": false
   },
   "outputs": [
    {
     "data": {
      "text/html": [
       "<div>\n",
       "<table border=\"1\" class=\"dataframe\">\n",
       "  <thead>\n",
       "    <tr style=\"text-align: right;\">\n",
       "      <th></th>\n",
       "      <th>title</th>\n",
       "      <th>year</th>\n",
       "      <th>score</th>\n",
       "      <th>votes</th>\n",
       "      <th>genres</th>\n",
       "    </tr>\n",
       "    <tr>\n",
       "      <th>imdbID</th>\n",
       "      <th></th>\n",
       "      <th></th>\n",
       "      <th></th>\n",
       "      <th></th>\n",
       "      <th></th>\n",
       "    </tr>\n",
       "  </thead>\n",
       "  <tbody>\n",
       "    <tr>\n",
       "      <th>tt4458206</th>\n",
       "      <td>Kod Adi K.O.Z.</td>\n",
       "      <td>2015</td>\n",
       "      <td>1.6</td>\n",
       "      <td>14729</td>\n",
       "      <td>Crime|Mystery</td>\n",
       "    </tr>\n",
       "    <tr>\n",
       "      <th>tt4009460</th>\n",
       "      <td>Saving Christmas</td>\n",
       "      <td>2014</td>\n",
       "      <td>1.6</td>\n",
       "      <td>9002</td>\n",
       "      <td>Comedy|Family</td>\n",
       "    </tr>\n",
       "  </tbody>\n",
       "</table>\n",
       "</div>"
      ],
      "text/plain": [
       "                      title  year  score  votes         genres\n",
       "imdbID                                                        \n",
       "tt4458206    Kod Adi K.O.Z.  2015    1.6  14729  Crime|Mystery\n",
       "tt4009460  Saving Christmas  2014    1.6   9002  Comedy|Family"
      ]
     },
     "execution_count": 24,
     "metadata": {},
     "output_type": "execute_result"
    }
   ],
   "source": [
    "data[data.score == data.score.min()][['title','year','score','votes','genres']]"
   ]
  },
  {
   "cell_type": "code",
   "execution_count": 25,
   "metadata": {
    "collapsed": false
   },
   "outputs": [
    {
     "data": {
      "text/html": [
       "<div>\n",
       "<table border=\"1\" class=\"dataframe\">\n",
       "  <thead>\n",
       "    <tr style=\"text-align: right;\">\n",
       "      <th></th>\n",
       "      <th>title</th>\n",
       "      <th>year</th>\n",
       "      <th>score</th>\n",
       "      <th>votes</th>\n",
       "      <th>genres</th>\n",
       "    </tr>\n",
       "    <tr>\n",
       "      <th>imdbID</th>\n",
       "      <th></th>\n",
       "      <th></th>\n",
       "      <th></th>\n",
       "      <th></th>\n",
       "      <th></th>\n",
       "    </tr>\n",
       "  </thead>\n",
       "  <tbody>\n",
       "    <tr>\n",
       "      <th>tt4523112</th>\n",
       "      <td>Selam: Bahara Yolculuk</td>\n",
       "      <td>2015</td>\n",
       "      <td>9.4</td>\n",
       "      <td>3473</td>\n",
       "      <td>Biography|Drama|History</td>\n",
       "    </tr>\n",
       "  </tbody>\n",
       "</table>\n",
       "</div>"
      ],
      "text/plain": [
       "                            title  year  score  votes                   genres\n",
       "imdbID                                                                        \n",
       "tt4523112  Selam: Bahara Yolculuk  2015    9.4   3473  Biography|Drama|History"
      ]
     },
     "execution_count": 25,
     "metadata": {},
     "output_type": "execute_result"
    }
   ],
   "source": [
    "data[data.score == data.score.max()][['title','year','score','votes','genres']]"
   ]
  },
  {
   "cell_type": "code",
   "execution_count": 26,
   "metadata": {
    "collapsed": false
   },
   "outputs": [
    {
     "data": {
      "text/html": [
       "<div>\n",
       "<table border=\"1\" class=\"dataframe\">\n",
       "  <thead>\n",
       "    <tr style=\"text-align: right;\">\n",
       "      <th></th>\n",
       "      <th>title</th>\n",
       "      <th>year</th>\n",
       "      <th>runtime</th>\n",
       "      <th>score</th>\n",
       "      <th>votes</th>\n",
       "      <th>genres</th>\n",
       "    </tr>\n",
       "    <tr>\n",
       "      <th>imdbID</th>\n",
       "      <th></th>\n",
       "      <th></th>\n",
       "      <th></th>\n",
       "      <th></th>\n",
       "      <th></th>\n",
       "      <th></th>\n",
       "    </tr>\n",
       "  </thead>\n",
       "  <tbody>\n",
       "    <tr>\n",
       "      <th>tt0111341</th>\n",
       "      <td>Satantango</td>\n",
       "      <td>1994</td>\n",
       "      <td>450</td>\n",
       "      <td>8.6</td>\n",
       "      <td>5300</td>\n",
       "      <td>Comedy|Drama</td>\n",
       "    </tr>\n",
       "  </tbody>\n",
       "</table>\n",
       "</div>"
      ],
      "text/plain": [
       "                title  year  runtime  score  votes        genres\n",
       "imdbID                                                          \n",
       "tt0111341  Satantango  1994      450    8.6   5300  Comedy|Drama"
      ]
     },
     "execution_count": 26,
     "metadata": {},
     "output_type": "execute_result"
    }
   ],
   "source": [
    "data[data.runtime == data.runtime.max()][['title','year','runtime','score','votes','genres']]"
   ]
  },
  {
   "cell_type": "markdown",
   "metadata": {},
   "source": [
    "### Run aggregation functions like `sum` over several rows or columns\n",
    "\n",
    "*What genres are the most frequent?*"
   ]
  },
  {
   "cell_type": "code",
   "execution_count": 27,
   "metadata": {
    "collapsed": false
   },
   "outputs": [
    {
     "data": {
      "text/html": [
       "<div>\n",
       "<table border=\"1\" class=\"dataframe\">\n",
       "  <thead>\n",
       "    <tr style=\"text-align: right;\">\n",
       "      <th></th>\n",
       "      <th>Genre Count</th>\n",
       "    </tr>\n",
       "  </thead>\n",
       "  <tbody>\n",
       "    <tr>\n",
       "      <th>Drama</th>\n",
       "      <td>5573</td>\n",
       "    </tr>\n",
       "    <tr>\n",
       "      <th>Comedy</th>\n",
       "      <td>3834</td>\n",
       "    </tr>\n",
       "    <tr>\n",
       "      <th>Thriller</th>\n",
       "      <td>2871</td>\n",
       "    </tr>\n",
       "    <tr>\n",
       "      <th>Romance</th>\n",
       "      <td>2306</td>\n",
       "    </tr>\n",
       "    <tr>\n",
       "      <th>Action</th>\n",
       "      <td>2005</td>\n",
       "    </tr>\n",
       "    <tr>\n",
       "      <th>Crime</th>\n",
       "      <td>1885</td>\n",
       "    </tr>\n",
       "    <tr>\n",
       "      <th>Adventure</th>\n",
       "      <td>1356</td>\n",
       "    </tr>\n",
       "    <tr>\n",
       "      <th>Horror</th>\n",
       "      <td>1223</td>\n",
       "    </tr>\n",
       "    <tr>\n",
       "      <th>Mystery</th>\n",
       "      <td>1014</td>\n",
       "    </tr>\n",
       "    <tr>\n",
       "      <th>Sci-Fi</th>\n",
       "      <td>959</td>\n",
       "    </tr>\n",
       "    <tr>\n",
       "      <th>Fantasy</th>\n",
       "      <td>868</td>\n",
       "    </tr>\n",
       "    <tr>\n",
       "      <th>Family</th>\n",
       "      <td>752</td>\n",
       "    </tr>\n",
       "    <tr>\n",
       "      <th>War</th>\n",
       "      <td>480</td>\n",
       "    </tr>\n",
       "    <tr>\n",
       "      <th>Biography</th>\n",
       "      <td>456</td>\n",
       "    </tr>\n",
       "    <tr>\n",
       "      <th>Animation</th>\n",
       "      <td>389</td>\n",
       "    </tr>\n",
       "    <tr>\n",
       "      <th>History</th>\n",
       "      <td>366</td>\n",
       "    </tr>\n",
       "    <tr>\n",
       "      <th>Music</th>\n",
       "      <td>330</td>\n",
       "    </tr>\n",
       "    <tr>\n",
       "      <th>Sport</th>\n",
       "      <td>300</td>\n",
       "    </tr>\n",
       "    <tr>\n",
       "      <th>Musical</th>\n",
       "      <td>261</td>\n",
       "    </tr>\n",
       "    <tr>\n",
       "      <th>Western</th>\n",
       "      <td>210</td>\n",
       "    </tr>\n",
       "    <tr>\n",
       "      <th>Film-Noir</th>\n",
       "      <td>78</td>\n",
       "    </tr>\n",
       "    <tr>\n",
       "      <th>Adult</th>\n",
       "      <td>1</td>\n",
       "    </tr>\n",
       "  </tbody>\n",
       "</table>\n",
       "</div>"
      ],
      "text/plain": [
       "           Genre Count\n",
       "Drama             5573\n",
       "Comedy            3834\n",
       "Thriller          2871\n",
       "Romance           2306\n",
       "Action            2005\n",
       "Crime             1885\n",
       "Adventure         1356\n",
       "Horror            1223\n",
       "Mystery           1014\n",
       "Sci-Fi             959\n",
       "Fantasy            868\n",
       "Family             752\n",
       "War                480\n",
       "Biography          456\n",
       "Animation          389\n",
       "History            366\n",
       "Music              330\n",
       "Sport              300\n",
       "Musical            261\n",
       "Western            210\n",
       "Film-Noir           78\n",
       "Adult                1"
      ]
     },
     "execution_count": 27,
     "metadata": {},
     "output_type": "execute_result"
    }
   ],
   "source": [
    "genres_count = pd.DataFrame({'Genre Count': data[genres].sum()})\n",
    "genres_count.sort(columns='Genre Count',ascending=False)"
   ]
  },
  {
   "cell_type": "markdown",
   "metadata": {},
   "source": [
    "*How many genres does a movie have, on average?*"
   ]
  },
  {
   "cell_type": "code",
   "execution_count": 28,
   "metadata": {
    "collapsed": false
   },
   "outputs": [
    {
     "name": "stdout",
     "output_type": "stream",
     "text": [
      "Avg. movie has 2.7517 genres\n"
     ]
    },
    {
     "data": {
      "text/plain": [
       "count    10000.000000\n",
       "mean         2.751700\n",
       "std          1.169779\n",
       "min          1.000000\n",
       "25%          2.000000\n",
       "50%          3.000000\n",
       "75%          3.000000\n",
       "max         10.000000\n",
       "dtype: float64"
      ]
     },
     "execution_count": 28,
     "metadata": {},
     "output_type": "execute_result"
    }
   ],
   "source": [
    "genres_count = data[genres].sum(axis=1)\n",
    "print \"Avg. movie has {} genres\".format(genres_count.mean())\n",
    "genres_count.describe()"
   ]
  },
  {
   "cell_type": "markdown",
   "metadata": {},
   "source": [
    "## Explore Group Properties\n",
    "\n",
    "Let's split up movies by half-decades:"
   ]
  },
  {
   "cell_type": "code",
   "execution_count": 29,
   "metadata": {
    "collapsed": false
   },
   "outputs": [
    {
     "name": "stderr",
     "output_type": "stream",
     "text": [
      "/usr/lib/python2.7/site-packages/IPython/kernel/__main__.py:4: SettingWithCopyWarning: \n",
      "A value is trying to be set on a copy of a slice from a DataFrame.\n",
      "Try using .loc[row_indexer,col_indexer] = value instead\n",
      "\n",
      "See the the caveats in the documentation: http://pandas.pydata.org/pandas-docs/stable/indexing.html#indexing-view-versus-copy\n"
     ]
    },
    {
     "data": {
      "text/html": [
       "<div>\n",
       "<table border=\"1\" class=\"dataframe\">\n",
       "  <thead>\n",
       "    <tr style=\"text-align: right;\">\n",
       "      <th></th>\n",
       "      <th>title</th>\n",
       "      <th>year</th>\n",
       "      <th>hdecades</th>\n",
       "    </tr>\n",
       "    <tr>\n",
       "      <th>imdbID</th>\n",
       "      <th></th>\n",
       "      <th></th>\n",
       "      <th></th>\n",
       "    </tr>\n",
       "  </thead>\n",
       "  <tbody>\n",
       "    <tr>\n",
       "      <th>tt0111161</th>\n",
       "      <td>The Shawshank Redemption</td>\n",
       "      <td>1994</td>\n",
       "      <td>1990</td>\n",
       "    </tr>\n",
       "    <tr>\n",
       "      <th>tt0468569</th>\n",
       "      <td>The Dark Knight</td>\n",
       "      <td>2008</td>\n",
       "      <td>2005</td>\n",
       "    </tr>\n",
       "    <tr>\n",
       "      <th>tt1375666</th>\n",
       "      <td>Inception</td>\n",
       "      <td>2010</td>\n",
       "      <td>2010</td>\n",
       "    </tr>\n",
       "    <tr>\n",
       "      <th>tt0137523</th>\n",
       "      <td>Fight Club</td>\n",
       "      <td>1999</td>\n",
       "      <td>1995</td>\n",
       "    </tr>\n",
       "    <tr>\n",
       "      <th>tt0110912</th>\n",
       "      <td>Pulp Fiction</td>\n",
       "      <td>1994</td>\n",
       "      <td>1990</td>\n",
       "    </tr>\n",
       "  </tbody>\n",
       "</table>\n",
       "</div>"
      ],
      "text/plain": [
       "                              title  year  hdecades\n",
       "imdbID                                             \n",
       "tt0111161  The Shawshank Redemption  1994      1990\n",
       "tt0468569           The Dark Knight  2008      2005\n",
       "tt1375666                 Inception  2010      2010\n",
       "tt0137523                Fight Club  1999      1995\n",
       "tt0110912              Pulp Fiction  1994      1990"
      ]
     },
     "execution_count": 29,
     "metadata": {},
     "output_type": "execute_result"
    }
   ],
   "source": [
    "hdecades = (data.year //5)*5\n",
    "\n",
    "tyd = data[['title', 'year']]\n",
    "tyd['hdecades'] = hdecades\n",
    "\n",
    "tyd.head()"
   ]
  },
  {
   "cell_type": "markdown",
   "metadata": {},
   "source": [
    "[GroupBy](http://pandas.pydata.org/pandas-docs/dev/groupby.html) will gather movies into groups with equal decade values:"
   ]
  },
  {
   "cell_type": "code",
   "execution_count": 30,
   "metadata": {
    "collapsed": false
   },
   "outputs": [
    {
     "name": "stdout",
     "output_type": "stream",
     "text": [
      "year\n",
      "1940    7.623469\n",
      "1945    7.647863\n",
      "1950    7.514685\n",
      "1955    7.484971\n",
      "1960    7.370588\n",
      "1965    7.254709\n",
      "1970    7.249434\n",
      "1975    7.018855\n",
      "1980    6.694266\n",
      "1985    6.508683\n",
      "1990    6.450311\n",
      "1995    6.472678\n",
      "2000    6.454241\n",
      "2005    6.390976\n",
      "2010    6.378626\n",
      "2015    6.385294\n",
      "Name: Half Decade mean score, dtype: float64\n"
     ]
    }
   ],
   "source": [
    "hdecades_mean = data.groupby(hdecades).score.mean()\n",
    "hdecades_mean.name = 'Half Decade mean score'\n",
    "print hdecades_mean"
   ]
  },
  {
   "cell_type": "markdown",
   "metadata": {},
   "source": [
    "We can plot the mean score over the scatter plot:"
   ]
  },
  {
   "cell_type": "code",
   "execution_count": 31,
   "metadata": {
    "collapsed": false
   },
   "outputs": [
    {
     "data": {
      "image/png": "[encoded data removed]",
      "text/plain": [
       "<matplotlib.figure.Figure at 0x7f60244a4e10>"
      ]
     },
     "metadata": {},
     "output_type": "display_data"
    }
   ],
   "source": [
    "plt.plot(hdecades_mean.index, hdecades_mean.values, 'o-', color='r',\n",
    "        lw=3, label='Half Decade Avg.')\n",
    "plt.scatter(data.year, data.score, lw=0, alpha=0.08, color='k')\n",
    "plt.xlabel(\"Year\")\n",
    "plt.ylabel(\"IMDB Rating\")\n",
    "plt.legend(frameon=False)\n",
    "remove_border()"
   ]
  },
  {
   "cell_type": "markdown",
   "metadata": {},
   "source": [
    "We can go one further, and compute the scatter in each year as well:"
   ]
  },
  {
   "cell_type": "code",
   "execution_count": 32,
   "metadata": {
    "collapsed": false
   },
   "outputs": [
    {
     "data": {
      "image/png": "[encoded data removed]",
      "text/plain": [
       "<matplotlib.figure.Figure at 0x7f6024129ad0>"
      ]
     },
     "metadata": {},
     "output_type": "display_data"
    }
   ],
   "source": [
    "hdecade_std = data.groupby(hdecades).score.std()\n",
    "\n",
    "plt.plot(hdecades_mean.index, hdecades_mean.values, 'o-', color='r',\n",
    "        lw=3, label='Half Decade Avg.')\n",
    "\n",
    "plt.fill_between(hdecades_mean.index, (hdecades_mean + hdecade_std).values, \n",
    "                 (hdecades_mean - hdecade_std).values, color='r', alpha=0.5)\n",
    "\n",
    "plt.scatter(data.year, data.score, lw=0, alpha=0.08, color='k')\n",
    "\n",
    "plt.xlabel(\"Year\")\n",
    "plt.ylabel(\"IMDB Rating\")\n",
    "plt.legend(frameon=False)\n",
    "remove_border()"
   ]
  },
  {
   "cell_type": "markdown",
   "metadata": {},
   "source": [
    "You can also iterate over a `GroupBy` object. Each iteration yields two variables: one of the distinct values of the group key, and the subset of the dataframe where the key equals that value. To find the most popular movie each year:"
   ]
  },
  {
   "cell_type": "code",
   "execution_count": 33,
   "metadata": {
    "collapsed": false
   },
   "outputs": [
    {
     "name": "stdout",
     "output_type": "stream",
     "text": [
      "1940 ['The Great Dictator']\n",
      "1941 ['Citizen Kane']\n",
      "1942 ['Casablanca']\n",
      "1943 ['The Ox-Bow Incident' 'The Life and Death of Colonel Blimp']\n",
      "1944 ['Double Indemnity']\n",
      "1945 ['Children of Paradise']\n",
      "1946 [\"It's a Wonderful Life\"]\n",
      "1947 ['Out of the Past']\n",
      "1948 ['Bicycle Thieves' 'I Remember Mama']\n",
      "1949 ['The Third Man']\n",
      "1950 ['Sunset Blvd.']\n",
      "1951 ['Ace in the Hole' 'Early Summer']\n",
      "1952 [\"Singin' in the Rain\"]\n",
      "1953 ['The Wages of Fear' 'Tokyo Story']\n",
      "1954 ['Seven Samurai']\n",
      "1955 ['Diabolique' 'Rififi' 'Pather Panchali']\n",
      "1956 ['A Man Escaped']\n",
      "1957 ['12 Angry Men']\n",
      "1958 ['Vertigo']\n",
      "1959 ['North by Northwest']\n",
      "1960 ['Psycho']\n",
      "1961 ['Yojimbo']\n",
      "1962 ['Harakiri']\n",
      "1963 ['High and Low']\n",
      "1964 ['Dr. Strangelove or: How I Learned to Stop Worrying and Love the Bomb']\n",
      "1965 [\"Operation 'Y' & Other Shurik's Adventures\"]\n",
      "1966 ['The Good, the Bad and the Ugly']\n",
      "1967 ['Samurai Rebellion' 'Kidnapping, Caucasian Style']\n",
      "1968 ['Once Upon a Time in the West']\n",
      "1969 ['The Diamond Arm']\n",
      "1970 ['Michael the Brave']\n",
      "1971 ['Anand']\n",
      "1972 ['The Godfather']\n",
      "1973 ['My Dear Brother']\n",
      "1974 ['The Godfather: Part II']\n",
      "1975 [\"One Flew Over the Cuckoo's Nest\"]\n",
      "1976 ['The Chaos Class Failed the Class' 'The Foster Brothers']\n",
      "1977 ['The Chaos Class Is Waking Up' 'Saban, Son of Saban']\n",
      "1978 ['The Chaos Class Is on Vacation' 'The Girl with the Red Scarf'\n",
      " 'Happy Days']\n",
      "1979 ['Gol Maal']\n",
      "1980 [\"Who's Singin' Over There?\"]\n",
      "1981 ['Raiders of the Lost Ark']\n",
      "1982 ['The Marathon Family']\n",
      "1983 ['Who Pays the Piper']\n",
      "1984 ['Balkan Spy']\n",
      "1985 ['The Broken Landlord']\n",
      "1986 ['Aliens' 'Cat City']\n",
      "1987 ['Nayakan']\n",
      "1988 ['Cinema Paradiso' 'Grave of the Fireflies']\n",
      "1989 [\"Don't Let Them Shoot the Kite\"]\n",
      "1990 ['Goodfellas']\n",
      "1991 ['The Silence of the Lambs']\n",
      "1992 ['We Are Not Angels']\n",
      "1993 [\"Schindler's List\"]\n",
      "1994 ['The Shawshank Redemption']\n",
      "1995 ['Se7en' 'The Usual Suspects']\n",
      "1996 ['The Bandit' 'Pretty Village, Pretty Flame']\n",
      "1997 ['Life Is Beautiful']\n",
      "1998 ['Saving Private Ryan' 'American History X']\n",
      "1999 ['Fight Club']\n",
      "2000 ['Gladiator' 'Memento' 'Hera Pheri' \"A Dog's Will\"]\n",
      "2001 ['The Lord of the Rings: The Fellowship of the Ring']\n",
      "2002 ['The Lord of the Rings: The Two Towers']\n",
      "2003 ['The Lord of the Rings: The Return of the King' 'Love is God']\n",
      "2004 ['Black Friday' 'The Lizard']\n",
      "2005 ['Athadu']\n",
      "2006 ['The Departed' 'The Prestige' 'The Lives of Others']\n",
      "2007 ['Like Stars on Earth']\n",
      "2008 ['The Dark Knight']\n",
      "2009 ['3 Idiots']\n",
      "2010 ['Inception']\n",
      "2011 ['The Intouchables']\n",
      "2012 ['The Dark Knight Rises' 'Django Unchained']\n",
      "2013 ['Drishyam']\n",
      "2014 ['Chaar Sahibzaade']\n",
      "2015 ['Selam: Bahara Yolculuk']\n"
     ]
    }
   ],
   "source": [
    "for year, subset in data.groupby('year'):\n",
    "    print year, subset[subset.score == subset.score.max()].title.values"
   ]
  },
  {
   "cell_type": "markdown",
   "metadata": {},
   "source": [
    "### Small multiples plots\n",
    "\n",
    "Let's split up the movies by genre, and look at how their release year/runtime/IMDB score vary.\n",
    "The distribution for all movies is shown as a grey background.\n",
    "\n",
    "This isn't a standard groupby, so we can't use the `groupby` method here. A manual loop is needed."
   ]
  },
  {
   "cell_type": "code",
   "execution_count": 34,
   "metadata": {
    "collapsed": false
   },
   "outputs": [
    {
     "name": "stderr",
     "output_type": "stream",
     "text": [
      "/usr/lib/python2.7/site-packages/matplotlib/figure.py:1653: UserWarning: This figure includes Axes that are not compatible with tight_layout, so its results might be incorrect.\n",
      "  warnings.warn(\"This figure includes Axes that are not \"\n"
     ]
    },
    {
     "data": {
      "image/png": "[encoded data removed]",
      "text/plain": [
       "<matplotlib.figure.Figure at 0x7f602405e310>"
      ]
     },
     "metadata": {},
     "output_type": "display_data"
    }
   ],
   "source": [
    "fig, axes = plt.subplots(nrows=4, ncols=6, figsize=(12,8), tight_layout=True)\n",
    "\n",
    "bins = np.arange(1940, 2015, 3)\n",
    "\n",
    "for ax, genre in zip(axes.ravel(), genres):\n",
    "    ax.hist(data[data[genre] == True].year, bins=bins,\n",
    "            histtype='stepfilled', normed=True, color='r', ec='none', alpha=0.5)\n",
    "    \n",
    "    ax.hist(data.year, bins=bins, histtype='stepfilled', normed=True, ec='none', zorder=0, color='#cccccc')\n",
    "    remove_border(ax,left=False)\n",
    "    ax.set_xlabel('Year')\n",
    "    ax.xaxis.set_ticks(np.arange(1940, 2015, 30))\n",
    "    ax.annotate(genre, xy=(1945, 3e-2), fontsize=14)\n",
    "    ax.set_yticks([])"
   ]
  },
  {
   "cell_type": "code",
   "execution_count": 35,
   "metadata": {
    "collapsed": false
   },
   "outputs": [
    {
     "data": {
      "image/png": "[encoded data removed]",
      "text/plain": [
       "<matplotlib.figure.Figure at 0x7f6021c4e7d0>"
      ]
     },
     "metadata": {},
     "output_type": "display_data"
    }
   ],
   "source": [
    "fig, axes = plt.subplots(nrows=4, ncols=6, figsize=(12,8), tight_layout=True)\n",
    "\n",
    "bins = np.arange(30, 240, 10)\n",
    "\n",
    "for ax, genre in zip(axes.ravel(), genres):\n",
    "    ax.hist(data[data[genre] == True].runtime, bins=bins,\n",
    "            histtype='stepfilled', normed=True, color='r', ec='none', alpha=0.5)\n",
    "    \n",
    "    ax.hist(data.runtime, bins=bins, histtype='stepfilled', normed=True, ec='none', zorder=0, color='#cccccc')\n",
    "    remove_border(ax,left=False)\n",
    "    ax.set_xlabel(\"Runtime mins\")\n",
    "    ax.xaxis.set_ticks(np.arange(30, 240, 60))\n",
    "    ax.annotate(genre, xy=(230, .02), fontsize=12, ha='right')\n",
    "    ax.set_yticks([])"
   ]
  },
  {
   "cell_type": "code",
   "execution_count": 36,
   "metadata": {
    "collapsed": false
   },
   "outputs": [
    {
     "data": {
      "image/png": "[encoded data removed]",
      "text/plain": [
       "<matplotlib.figure.Figure at 0x7f6020f90ed0>"
      ]
     },
     "metadata": {},
     "output_type": "display_data"
    }
   ],
   "source": [
    "fig, axes = plt.subplots(nrows=4, ncols=6, figsize=(12,8), tight_layout=True)\n",
    "\n",
    "bins = np.arange(0, 10, 0.5)\n",
    "\n",
    "for ax, genre in zip(axes.ravel(), genres):\n",
    "    ax.hist(data[data[genre] == True].score, bins=bins,\n",
    "            histtype='stepfilled', normed=True, color='r', ec='none', alpha=0.5)\n",
    "    \n",
    "    ax.hist(data.score, bins=bins, histtype='stepfilled', normed=True, ec='none', zorder=0, color='#cccccc')\n",
    "    remove_border(ax,left=False)\n",
    "    ax.set_xlabel(\"Score\")\n",
    "    ax.annotate(genre, xy=(0, .2), fontsize=12, ha='left')\n",
    "    ax.set_ylim(0, .4)\n",
    "    ax.set_yticks([])"
   ]
  },
  {
   "cell_type": "markdown",
   "metadata": {},
   "source": [
    "*css tweaks in this cell*\n",
    "\n",
    "<style> \n",
    "div.text_cell_render {\n",
    "    line-height: 135%;\n",
    "    font-size: 110%;\n",
    "    width: 800px; \n",
    "    margin-left:50px;\n",
    "    margin-right:auto;\n",
    "    }\n",
    "    \n",
    "li {\n",
    "    line-height: 135%;\n",
    "}\n",
    "</style>"
   ]
  },
  {
   "cell_type": "code",
   "execution_count": null,
   "metadata": {
    "collapsed": true
   },
   "outputs": [],
   "source": []
  }
 ],
 "metadata": {
  "kernelspec": {
   "display_name": "Python 2",
   "language": "python",
   "name": "python2"
  },
  "language_info": {
   "codemirror_mode": {
    "name": "ipython",
    "version": 2
   },
   "file_extension": ".py",
   "mimetype": "text/x-python",
   "name": "python",
   "nbconvert_exporter": "python",
   "pygments_lexer": "ipython2",
   "version": "2.7.10"
  }
 },
 "nbformat": 4,
 "nbformat_minor": 0
}
